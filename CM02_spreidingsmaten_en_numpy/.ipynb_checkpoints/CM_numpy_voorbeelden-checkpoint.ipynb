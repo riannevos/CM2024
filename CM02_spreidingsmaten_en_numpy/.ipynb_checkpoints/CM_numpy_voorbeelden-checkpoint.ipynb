{
 "cells": [
  {
   "cell_type": "markdown",
   "id": "026a0a08-757d-4a85-b55d-b6c0abd5ca2f",
   "metadata": {
    "tags": []
   },
   "source": [
    "## Introductie NumPy"
   ]
  },
  {
   "cell_type": "markdown",
   "id": "58b8d045-b5bf-4a78-b37d-acbf8aee55ce",
   "metadata": {
    "tags": []
   },
   "source": [
    "### Doel van  NumPy\n",
    "Efficiënt grote verzamelingen nummerieke gegevens (arrays) verwerken. Veel efficiënter als dat jezelf via for / while lussen kunt doen"
   ]
  },
  {
   "cell_type": "code",
   "execution_count": null,
   "id": "fe29e401-4664-4c59-9727-7db937199c00",
   "metadata": {
    "tags": []
   },
   "outputs": [],
   "source": [
    "# gebruik library\n",
    "import numpy as np"
   ]
  },
  {
   "cell_type": "code",
   "execution_count": null,
   "id": "2651d04a-6e5b-47d0-a328-10d548702eec",
   "metadata": {},
   "outputs": [],
   "source": [
    "# Gebruik np.<TAB><TAB> voor documentatie"
   ]
  },
  {
   "cell_type": "markdown",
   "id": "7a25c261-0dc7-4147-9114-226b25638fdf",
   "metadata": {},
   "source": [
    "### Aanmaken NumPy Arrays"
   ]
  },
  {
   "cell_type": "code",
   "execution_count": null,
   "id": "4163d7a8-3e7b-4353-b69f-fbff7cf51810",
   "metadata": {},
   "outputs": [],
   "source": [
    "# aanmaken van Arrays\n",
    "# uit een Python List\n",
    "np1 = np.array([1,4,2,5,3])\n",
    "print(np1)"
   ]
  },
  {
   "cell_type": "code",
   "execution_count": null,
   "id": "78fdd1c1-288e-47c1-9003-cfb2a579a2d1",
   "metadata": {},
   "outputs": [],
   "source": [
    "# uit een range definitie\n",
    "np2 = np.arange(0,20,2)  # van 0 tot 20 per 2\n",
    "np2"
   ]
  },
  {
   "cell_type": "code",
   "execution_count": null,
   "id": "e7991445-513f-477f-a849-e3f10759c5b6",
   "metadata": {},
   "outputs": [],
   "source": [
    "# meerdere dimensions random gevuld\n",
    "np.random.seed(0)  # seed for reproducibility\n",
    "\n",
    "x1 = np.random.randint(10, size=6)  # One-dimensional array\n",
    "x2 = np.random.randint(10, size=(3, 4))  # Two-dimensional array\n",
    "x3 = np.random.randint(10, size=(3, 4, 5))  # Three-dimensional array\n",
    "print(x1); print(x2); print(x3)"
   ]
  },
  {
   "cell_type": "markdown",
   "id": "4033a69b-a328-476c-892e-a197c1de9c8d",
   "metadata": {},
   "source": [
    "### Slicing (deel van array bepalen)"
   ]
  },
  {
   "cell_type": "code",
   "execution_count": null,
   "id": "bf01c662-9562-4c6e-84be-a17b7be194a4",
   "metadata": {},
   "outputs": [],
   "source": [
    "x = np.array(([5, 10, 15], [4, 14, 24], [3, 11, 19]))\n",
    "x"
   ]
  },
  {
   "cell_type": "code",
   "execution_count": null,
   "id": "2192a782-63b5-4a63-9c28-f98b8eb01538",
   "metadata": {},
   "outputs": [],
   "source": [
    "x[:,1] # alle rijen, 2e kolom"
   ]
  },
  {
   "cell_type": "code",
   "execution_count": null,
   "id": "3f3faa21-97d9-4a72-8b84-91f412e4db0a",
   "metadata": {},
   "outputs": [],
   "source": [
    "x[1,:] # tweede rij, alle kolommen\n"
   ]
  },
  {
   "cell_type": "code",
   "execution_count": null,
   "id": "384c755e-8d5a-4789-bd78-4db42aacb166",
   "metadata": {},
   "outputs": [],
   "source": [
    "x[:2,1:]  # 1e en 2e rij, vanaf 2e kolom"
   ]
  },
  {
   "cell_type": "markdown",
   "id": "c6aa32f8-c8fc-4054-9d52-099d897376d2",
   "metadata": {},
   "source": [
    "### Berekeningen"
   ]
  },
  {
   "cell_type": "code",
   "execution_count": null,
   "id": "f070519e-db90-4019-982d-83152398607e",
   "metadata": {},
   "outputs": [],
   "source": [
    "x = np.array(([10,20,30], [40,50,60]))\n",
    "y = np.array(([1,2,3], [4,5,6]))\n",
    "print(x); print(y)"
   ]
  },
  {
   "cell_type": "code",
   "execution_count": null,
   "id": "39f67927-a5e5-4535-b079-47d7f05be5bb",
   "metadata": {},
   "outputs": [],
   "source": [
    "# Vergelijking tussen 2 arrays\n",
    "print(x>y)"
   ]
  },
  {
   "cell_type": "code",
   "execution_count": null,
   "id": "142fbe0b-c9c4-4fb7-8243-258525290aae",
   "metadata": {},
   "outputs": [],
   "source": [
    "# Berekenen met 'enkel' getal\n",
    "print(x*2)"
   ]
  },
  {
   "cell_type": "code",
   "execution_count": null,
   "id": "6afbf274-7b85-40f3-b8bf-c842415a2fbb",
   "metadata": {},
   "outputs": [],
   "source": [
    "# UFunc: universele functies op alle elemementen\n",
    "print(np.multiply(x,2))"
   ]
  },
  {
   "cell_type": "code",
   "execution_count": null,
   "id": "a9be1961-d841-463d-8132-802ff97678e7",
   "metadata": {},
   "outputs": [],
   "source": [
    "# Aggregatie functies\n",
    "print(np.min(x))"
   ]
  },
  {
   "cell_type": "code",
   "execution_count": null,
   "id": "2feec34e-5861-4815-a7bf-1437d21e19c1",
   "metadata": {},
   "outputs": [],
   "source": [
    "print(np.sum(x))"
   ]
  },
  {
   "cell_type": "markdown",
   "id": "ee2d9d27-a5aa-44d6-942c-ea0fe3425d85",
   "metadata": {},
   "source": [
    "### Fancy indexing\n"
   ]
  },
  {
   "cell_type": "code",
   "execution_count": null,
   "id": "75ebec02-2b62-4df4-914c-c43a139e5ee6",
   "metadata": {},
   "outputs": [],
   "source": [
    "z = np.array(([15,20,35], [45,50,55]))\n",
    "x<z"
   ]
  },
  {
   "cell_type": "code",
   "execution_count": null,
   "id": "312933c8-b1c6-4064-9f49-92c28b573823",
   "metadata": {},
   "outputs": [],
   "source": [
    "x[x<z]"
   ]
  },
  {
   "cell_type": "code",
   "execution_count": null,
   "id": "dafb3e41-5970-4bbd-9ea6-7e9c9617bdbf",
   "metadata": {},
   "outputs": [],
   "source": [
    "# Einde"
   ]
  }
 ],
 "metadata": {
  "kernelspec": {
   "display_name": "Python 3 (ipykernel)",
   "language": "python",
   "name": "python3"
  },
  "language_info": {
   "codemirror_mode": {
    "name": "ipython",
    "version": 3
   },
   "file_extension": ".py",
   "mimetype": "text/x-python",
   "name": "python",
   "nbconvert_exporter": "python",
   "pygments_lexer": "ipython3",
   "version": "3.8.2"
  }
 },
 "nbformat": 4,
 "nbformat_minor": 5
}
