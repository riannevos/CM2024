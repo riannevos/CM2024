{
 "cells": [
  {
   "cell_type": "markdown",
   "id": "3118654e-051d-4bd3-9817-a500827e9f40",
   "metadata": {},
   "source": [
    "# Lineaire regressie - opdrachten"
   ]
  },
  {
   "cell_type": "markdown",
   "id": "b16ed498-8c88-4342-b8a1-aa4762905d95",
   "metadata": {},
   "source": [
    "In dit notebook vind je 2 opdrachten over lineaire regressie. \n",
    "\n",
    "- <a href = \"#linreg_opdracht1\"> Opdracht 1 </a> bestaat uit 2 oefeningen die je maakt ter voorbereiding van het college.\n",
    "- <a href = \"#linreg_opdracht2\"> Opdracht 2 </a> bestaat uit 6 stappen en die maak je tijdens het college."
   ]
  },
  {
   "cell_type": "markdown",
   "id": "64e8489a-ae15-4f62-ab45-f408878d502c",
   "metadata": {},
   "source": [
    "<a id=\"linreg_opdracht1\"></a>\n",
    "## Opdracht 1"
   ]
  },
  {
   "cell_type": "code",
   "execution_count": null,
   "id": "9c2209e2-a2f3-480b-85ab-3e8d3f3e31e6",
   "metadata": {},
   "outputs": [],
   "source": [
    "import numpy as np\n",
    "import pandas as pd\n",
    "import matplotlib.pyplot as plt\n",
    "import matplotlib.patches as patches\n",
    "import seaborn as sns\n",
    "from sklearn import linear_model"
   ]
  },
  {
   "cell_type": "code",
   "execution_count": null,
   "id": "12d65e1d-281b-4f31-a153-031cf035dbf3",
   "metadata": {},
   "outputs": [],
   "source": [
    "personen = pd.DataFrame({'lengte': [1.678, 1.755, 1.764, 1.821, 1.809, 1.851, 1.848, 1.902], \n",
    "                         'gewicht': [62.2, 67.2, 72.7, 76.4, 75.2, 81.3, 87.4, 90.4]})"
   ]
  },
  {
   "cell_type": "code",
   "execution_count": null,
   "id": "224fc323-6e6d-4cce-9290-eadd7b362788",
   "metadata": {},
   "outputs": [],
   "source": [
    "r = personen['gewicht'].corr(personen['lengte'])\n",
    "print(f'Pearsons correlatiecoëfficient r = {r}')"
   ]
  },
  {
   "cell_type": "markdown",
   "id": "d7232374-c636-4d26-bf96-d6822c3dd1ee",
   "metadata": {},
   "source": [
    "### Lineaire formule\n",
    "\n",
    "Zoek de _beste_ lineaire formule die het gewicht $y$ voorspelt gegeven lengte $x$ met richtingscoëfficient $a$ en intercept $b$. Je vindt de beste formule door de _sum of squared residuals_ (SSR, de som van het kwadraat van de residuen) te minimaliseren. Maak hiervoor gebruik van de grafiek die hieronder getekend wordt. De verticale rode lijnen representeren het residu bij elke meetwaarde."
   ]
  },
  {
   "cell_type": "code",
   "execution_count": null,
   "id": "6c3137fb-adc2-4680-88d6-e5650a8f9b44",
   "metadata": {},
   "outputs": [],
   "source": [
    "# x-as loopt van minimum van lengte tot maximum van lengte\n",
    "x = np.linspace((personen[['lengte']].min()-.03), personen[['lengte']].max()+.03)"
   ]
  },
  {
   "cell_type": "markdown",
   "id": "6cb12220-8760-46f8-b8af-ab39d8d06099",
   "metadata": {},
   "source": [
    "Bij _simple linear regression_ geldt: \n",
    "\n",
    "$$ a = \\frac{ \\sum_{i=1}^{n} (x_{i}-\\bar{x})(y_{i}-\\bar{y}) }{ \\sum_{i=1}^{n}(x_{i}-\\bar{x})^{2}} \n",
    "     = \\frac{Cov[x,y]}{Var[x]} $$\n",
    "\n",
    "en \n",
    "\n",
    "$$ b = \\bar{y} - a \\bar{x} $$"
   ]
  },
  {
   "cell_type": "code",
   "execution_count": null,
   "id": "6670fc8f-d1fa-47a3-bf9c-b51a801b3524",
   "metadata": {},
   "outputs": [],
   "source": [
    "cov_xy = np.cov(personen['lengte'], personen['gewicht'], bias=True)[0][1]\n",
    "var_x = np.var(personen['lengte'])\n",
    "mean_x = personen['lengte'].mean()\n",
    "mean_y = personen['gewicht'].mean()\n",
    "\n",
    "a = cov_xy / var_x\n",
    "b = mean_y - a * mean_x\n",
    "y = a*x+b\n",
    "\n",
    "print(f'y = {a} x + {b}')"
   ]
  },
  {
   "cell_type": "code",
   "execution_count": null,
   "id": "b988594d-8b93-421d-adfe-8038ca816263",
   "metadata": {
    "scrolled": true
   },
   "outputs": [],
   "source": [
    "a = ((personen['lengte'] - mean_x) * (personen['gewicht'] - mean_y)).sum() / ((personen['lengte'] - mean_x)**2).sum()\n",
    "b = mean_y - a * mean_x\n",
    "\n",
    "y = a*x+b\n",
    "\n",
    "print(f'y = {a} x + {b}')"
   ]
  },
  {
   "cell_type": "code",
   "execution_count": null,
   "id": "9a611311-58b4-40fc-9a76-120a7bf4ec1d",
   "metadata": {},
   "outputs": [],
   "source": [
    "reg = linear_model.LinearRegression()\n",
    "reg.fit(personen[['lengte']], personen[['gewicht']])\n",
    "print(f'y = {reg.coef_[0][0]} x + {reg.intercept_[0]}')\n",
    "personen['gewicht_linreg'] = reg.predict(personen[['lengte']])\n",
    "\n",
    "a, b = reg.coef_[0][0], reg.intercept_[0]\n",
    "y = a*x+b\n",
    "# geeft ssr = 53.59"
   ]
  },
  {
   "cell_type": "markdown",
   "id": "2d2ff7d2-a13c-415d-b8eb-1d3750af315d",
   "metadata": {},
   "source": [
    "### Opdracht 1a: bepaal handmatig de beste coëfficienten\n",
    "Pas a en b zodanig aan dat je de 'Sum of squared residuals (SSR)' minimaliseert\n",
    "Pas in deze cel a en b aan, run deze cel en de volgende cel en analyseer het resultaat aan de hand van de score die \n",
    "boven in de visualisatie getoond wordt\n",
    "\n",
    " - Tip 1: je kunt als eerste gok de coëfficienten uitrekenen op basis van een van de gegeven punten\n",
    " - Tip 2: je kunt de helling van de lijn aanpassen met a\n",
    " - Tip 3: je kunt de hoogte van de lijn aanpassen met b"
   ]
  },
  {
   "cell_type": "code",
   "execution_count": null,
   "id": "2e5bc84c-5498-4cd8-8615-542eba35cb01",
   "metadata": {
    "tags": [
     "student"
    ]
   },
   "outputs": [],
   "source": []
  },
  {
   "cell_type": "markdown",
   "id": "a6bbe56f-fe80-4910-a99f-ecf65829f23a",
   "metadata": {},
   "source": [
    "### Opdracht 1b: bepaal de beste coëfficienten met behulp van Lineaire Regressie\n",
    "We gaan nu de computer coëfficienten a en b laten bepalen met behulp van Lineaire Regressie. Voer de volgende stappen uit:\n",
    "\n",
    " - Kies het juiste modeltype\n",
    " - Kies de features en targetvariabele\n",
    " - Maak een train en testset\n",
    " - Kies de hyperparameters\n",
    " - Train het model\n",
    " - Valideer de resultaten\n",
    " \n",
    "Ga daarna verschillende iteraties uitvoeren om tot een beter model te komen. Er zijn meerdere mogelijkheden om het model te verbeteren:\n",
    "\n",
    " - Andere instellingen\n",
    " - Andere features\n",
    " - Features normaliseren"
   ]
  },
  {
   "cell_type": "code",
   "execution_count": null,
   "id": "38d3afc7-f15a-454b-adcf-a58bf50be0dd",
   "metadata": {
    "tags": [
     "student"
    ]
   },
   "outputs": [],
   "source": []
  },
  {
   "cell_type": "markdown",
   "id": "98415c26-3a16-4163-9563-a7d0a7f288f0",
   "metadata": {},
   "source": [
    "<a id=\"linreg_opdracht2\"></a>\n",
    "## Opdracht 2"
   ]
  },
  {
   "cell_type": "markdown",
   "id": "a41d409e-785b-45b2-ac93-90844de17703",
   "metadata": {},
   "source": [
    "In deze oefening gaan we onderzoeken of het verbruik van auto's is te voorspellen aan de hand van diverse kenmerken. Er worden eerst een aantal analyses en bewerkingen op de data uitgevoerd, voordat we starten met enkele opdrachten."
   ]
  },
  {
   "cell_type": "code",
   "execution_count": null,
   "id": "74258554-03ed-454a-837c-81efe08748ab",
   "metadata": {},
   "outputs": [],
   "source": [
    "# Bronnen\n",
    "# Dowload: https://archive.ics.uci.edu/ml/datasets/Auto+MPG \n",
    "# Omvormen naar csv: http://fatihsarigoz.com/autompg-data.html \n",
    "# Lineaire regressie: http://benalexkeen.com/linear-regression-in-python-using-scikit-learn/ "
   ]
  },
  {
   "cell_type": "code",
   "execution_count": null,
   "id": "ffbbbcd5-ab3b-44f3-b1d3-682312fbea6a",
   "metadata": {},
   "outputs": [],
   "source": [
    "# Libraries importeren\n",
    "\n",
    "import pandas as pd\n",
    "import numpy as np\n",
    "from sklearn.model_selection import train_test_split\n",
    "from sklearn.linear_model import LinearRegression\n",
    "from sklearn.metrics import mean_squared_error\n",
    "from sklearn.metrics import r2_score\n",
    "import math\n",
    "import matplotlib.pyplot as plt"
   ]
  },
  {
   "cell_type": "code",
   "execution_count": null,
   "id": "770de064-664d-44fc-8e23-601b50d6ae67",
   "metadata": {},
   "outputs": [],
   "source": [
    "# Analyseren welke attributen er in de dataset zitten. Als je de inhoud niet snapt, is het handig om ff te Googlen!\n",
    "\n",
    "df = pd.read_csv('lineaire_regressie_auto_mpg.csv')\n",
    "df.head()"
   ]
  },
  {
   "cell_type": "code",
   "execution_count": null,
   "id": "295267ba-4725-48fc-91da-0cb06ffadb53",
   "metadata": {},
   "outputs": [],
   "source": [
    "# Inhoud van de attributen analyseren, check wat describe() doet met het attribuut `origin`\n",
    "\n",
    "df.describe()"
   ]
  },
  {
   "cell_type": "code",
   "execution_count": null,
   "id": "5c4a28fd-401f-4c79-937b-78a4cfe78034",
   "metadata": {},
   "outputs": [],
   "source": [
    "# Drop name: die hebben we niet nodig \n",
    "\n",
    "df = df.drop('name', axis=1)"
   ]
  },
  {
   "cell_type": "code",
   "execution_count": null,
   "id": "b80b8394-eb32-41ce-8182-324b463f9bb8",
   "metadata": {},
   "outputs": [],
   "source": [
    "# Origin lijkt een numerieke waarde, maar het is een categorie. \n",
    "# Dit attribuut moeten we aanpassen voordat we het kunnen gebruiken voor lineaire regressie\n",
    "\n",
    "df = pd.get_dummies(df, columns=['origin'])\n",
    "df.head()"
   ]
  },
  {
   "cell_type": "code",
   "execution_count": null,
   "id": "03191593-7cd8-45b1-939e-672aa4a64c2a",
   "metadata": {
    "tags": [
     "student"
    ]
   },
   "outputs": [],
   "source": [
    "# Verkenning van de correlaties\n",
    "\n",
    "print(df.corr()['mpg'])\n",
    "\n",
    "plt.subplots(dpi=100)\n",
    "plt.scatter(df.displacement, df.mpg)\n",
    "plt.show()"
   ]
  },
  {
   "cell_type": "markdown",
   "id": "efaec84b-5628-4951-9c56-832820302038",
   "metadata": {},
   "source": [
    "1. Kies het juiste modeltype"
   ]
  },
  {
   "cell_type": "code",
   "execution_count": null,
   "id": "974c1bb1-bd24-496f-963e-8f0af55c35b0",
   "metadata": {
    "tags": [
     "student"
    ]
   },
   "outputs": [],
   "source": []
  },
  {
   "cell_type": "markdown",
   "id": "9bc05ba9-0ff9-435a-ac09-bfdd2f0c51a5",
   "metadata": {},
   "source": [
    "2. Kies de hyperparameters"
   ]
  },
  {
   "cell_type": "code",
   "execution_count": null,
   "id": "cee62068-52e5-432b-9ad6-70bf62080469",
   "metadata": {
    "tags": [
     "student"
    ]
   },
   "outputs": [],
   "source": []
  },
  {
   "cell_type": "markdown",
   "id": "9f3814c5-2a1b-4ace-926e-818c794c0c79",
   "metadata": {},
   "source": [
    "3. Organiseer de data: _features_ (eigenschappen) en _target_ (resultaat)"
   ]
  },
  {
   "cell_type": "code",
   "execution_count": null,
   "id": "52abac49-6100-43f6-a917-db7445361e95",
   "metadata": {
    "tags": [
     "student"
    ]
   },
   "outputs": [],
   "source": []
  },
  {
   "cell_type": "markdown",
   "id": "72e8f437-e3c0-4da6-868d-88e28e5c5703",
   "metadata": {},
   "source": [
    "4. Creëer een training- en validatieset"
   ]
  },
  {
   "cell_type": "code",
   "execution_count": null,
   "id": "7a6d590b-a980-43a3-82dc-ed2df9179df0",
   "metadata": {
    "tags": [
     "student"
    ]
   },
   "outputs": [],
   "source": []
  },
  {
   "cell_type": "markdown",
   "id": "45c41ad6-285e-43ec-9af0-8494d2f3e72c",
   "metadata": {},
   "source": [
    "5. Start het leerproces"
   ]
  },
  {
   "cell_type": "code",
   "execution_count": null,
   "id": "9b6e9fac-66ca-40a6-bccb-5b8681e1b64a",
   "metadata": {
    "tags": [
     "student"
    ]
   },
   "outputs": [],
   "source": []
  },
  {
   "cell_type": "markdown",
   "id": "4ee5f3f4-ba5c-4dc0-9865-f7d0e9e0cbe5",
   "metadata": {},
   "source": [
    "6. Valideer het model\n",
    "\n",
    "Bereken de determinatiecoëfficient $r^2$."
   ]
  },
  {
   "cell_type": "code",
   "execution_count": null,
   "id": "1308d6dc-e3c2-4f47-ad14-3f6e290a556d",
   "metadata": {
    "tags": [
     "student"
    ]
   },
   "outputs": [],
   "source": []
  },
  {
   "cell_type": "markdown",
   "id": "93a5143f-b055-497d-a02f-4fd2ec9b1b1f",
   "metadata": {},
   "source": [
    "Bereken de *root mean squared error*, gebruik makend van `mean_squared_error()`."
   ]
  },
  {
   "cell_type": "code",
   "execution_count": null,
   "id": "8f391990-f045-4762-81a4-3de1835aa995",
   "metadata": {
    "tags": [
     "student"
    ]
   },
   "outputs": [],
   "source": []
  },
  {
   "cell_type": "markdown",
   "id": "daaaf3d5-e97d-4d02-a64d-7ed9e1717629",
   "metadata": {},
   "source": [
    "Wat is de betekenis van dit getal?"
   ]
  },
  {
   "cell_type": "markdown",
   "id": "df85cefd-16a0-4bfa-a433-e647ad570bcc",
   "metadata": {
    "tags": [
     "student"
    ]
   },
   "source": []
  },
  {
   "cell_type": "markdown",
   "id": "44c1b5b3-beb5-466b-a45c-90b894b149be",
   "metadata": {},
   "source": [
    "Wat gebeurt er met de lineaire regressie als je andere _features_ kiest? Welke deelverzameling van kenmerken is het beste?\n"
   ]
  },
  {
   "cell_type": "code",
   "execution_count": null,
   "id": "b688401b-9946-42a7-bb64-c5861a5daa84",
   "metadata": {
    "tags": [
     "student"
    ]
   },
   "outputs": [],
   "source": []
  }
 ],
 "metadata": {
  "kernelspec": {
   "display_name": "Python 3 (ipykernel)",
   "language": "python",
   "name": "python3"
  },
  "language_info": {
   "codemirror_mode": {
    "name": "ipython",
    "version": 3
   },
   "file_extension": ".py",
   "mimetype": "text/x-python",
   "name": "python",
   "nbconvert_exporter": "python",
   "pygments_lexer": "ipython3",
   "version": "3.8.2"
  }
 },
 "nbformat": 4,
 "nbformat_minor": 5
}
