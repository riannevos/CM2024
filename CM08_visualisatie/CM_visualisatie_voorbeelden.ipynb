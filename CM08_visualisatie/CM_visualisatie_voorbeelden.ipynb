{
 "cells": [
  {
   "cell_type": "markdown",
   "metadata": {},
   "source": [
    "# Visualisatie - Voorbeelden"
   ]
  },
  {
   "cell_type": "markdown",
   "metadata": {},
   "source": [
    "In dit notebook vind je voorbeelden van visualisaties met:\n",
    " - <a href=\"#matplotlib\"> Matplotlib </a>\n",
    " - <a href=\"#holoviews\"> HoloViews </a>\n",
    " - <a href=\"#seaborn\"> Seaborn </a>"
   ]
  },
  {
   "cell_type": "markdown",
   "metadata": {},
   "source": [
    "<a id=\"matplotlib\"></a>\n",
    "## Visualisatie met Matplotlib\n"
   ]
  },
  {
   "cell_type": "markdown",
   "metadata": {},
   "source": [
    "Hieronder een samenvatting van de belangrijkste onderdelen van Jake VanderPlas Ch4: Visualization with Matplotlib"
   ]
  },
  {
   "cell_type": "markdown",
   "metadata": {},
   "source": [
    "Andere bronnen:\n",
    "\n",
    "- https://matplotlib.org/users/pyplot_tutorial.html\n",
    "- https://www.datacamp.com/community/tutorials/matplotlib-tutorial-python\n",
    "- http://pandas.pydata.org/pandas-docs/stable/visualization.html"
   ]
  },
  {
   "cell_type": "code",
   "execution_count": null,
   "metadata": {},
   "outputs": [],
   "source": [
    "# zorgen dat plots in het notebook komen\n",
    "%matplotlib inline\n",
    "\n",
    "# importeren van de matplotlib\n",
    "import matplotlib.pyplot as plt\n",
    "\n",
    "# andere bibliotheken\n",
    "import numpy as np\n",
    "import pandas as pd"
   ]
  },
  {
   "cell_type": "code",
   "execution_count": null,
   "metadata": {},
   "outputs": [],
   "source": [
    "# een eerste voorbeeld\n",
    "x = np.linspace(0,10,100)   # 100 getallen tussen de 0 en 10\n",
    "y = x + 1\n",
    "plt.plot(x,y)\n",
    "plt.show()"
   ]
  },
  {
   "cell_type": "code",
   "execution_count": null,
   "metadata": {},
   "outputs": [],
   "source": [
    "# nu met 2 lijnen\n",
    "y2 = -x + 10\n",
    "plt.plot(x,y)\n",
    "plt.plot(x,y2)\n",
    "plt.show()"
   ]
  },
  {
   "cell_type": "code",
   "execution_count": null,
   "metadata": {},
   "outputs": [],
   "source": [
    "# zelf soort lijn en kleuren bepalen\n",
    "plt.plot(x,y,color='red', linestyle = '-')  # rode doorlopende lijn\n",
    "plt.plot(x,y2,color='green', linestyle = '--')  # blauwe gestreepte lijn\n",
    "plt.show()"
   ]
  },
  {
   "cell_type": "code",
   "execution_count": null,
   "metadata": {},
   "outputs": [],
   "source": [
    "# idem, verkorte schrijfwijze\n",
    "plt.plot(x,y,'-r')  # rode doorlopende lijn\n",
    "plt.plot(x,y2,'--g')  # blauwe gestreepte lijn\n",
    "plt.show()"
   ]
  },
  {
   "cell_type": "code",
   "execution_count": null,
   "metadata": {},
   "outputs": [],
   "source": [
    "# assen indelen\n",
    "plt.xlim(-1,11)\n",
    "plt.ylim(0,15)\n",
    "plt.plot(x,y,'-r')  # rode doorlopende lijn\n",
    "plt.show()"
   ]
  },
  {
   "cell_type": "code",
   "execution_count": null,
   "metadata": {},
   "outputs": [],
   "source": [
    "# toewijzen Labels\n",
    "plt.xlim(-1,11)\n",
    "plt.ylim(0,15)\n",
    "\n",
    "plt.plot(x,y,'-r', label='x + 1')  # rode doorlopende lijn\n",
    "plt.plot(x,y2,'--g', label='-x + 10')  # blauwe gestreepte lijn\n",
    "\n",
    "# Titel boven de grafiek:\n",
    "plt.title('Lijnen')\n",
    "# X-as label\n",
    "plt.xlabel('X-waarde')\n",
    "# Y-as label\n",
    "plt.ylabel('Y-waarde')\n",
    "# afdrukken legenda\n",
    "plt.legend()\n",
    "\n",
    "# annotatie\n",
    "plt.annotate('Midden', xy=(5,7),xytext=(7,12), arrowprops=dict(facecolor='black',shrink=0.05))\n",
    "\n",
    "plt.show()"
   ]
  },
  {
   "cell_type": "code",
   "execution_count": null,
   "metadata": {},
   "outputs": [],
   "source": [
    "import matplotlib.pylab as pylab\n",
    "\n",
    "params = {'axes.labelsize': 'xx-large',\n",
    "          'xtick.labelsize': 'xx-large',\n",
    "          'ytick.labelsize': 'xx-large'}\n",
    " \n",
    "pylab.rcParams.update(params)"
   ]
  },
  {
   "cell_type": "code",
   "execution_count": null,
   "metadata": {},
   "outputs": [],
   "source": [
    "# De OO-interface\n",
    "\n",
    "# Hierboven wordt de standaard matplotlib functies gebruikt. \n",
    "# Maar Matplotlib kan ook meer OO-gericht aangestuurd worden.\n",
    "\n",
    "# object figure: container voor alle grafische objecten\n",
    "fig = plt.figure(figsize=(9,6), dpi=150)\n",
    "\n",
    "# object axes: de grafiekbasis\n",
    "ax = plt.axes()\n",
    "\n",
    "ax.set(xlim=(-1,11),\n",
    "       ylim=(0,15),\n",
    "       xlabel='X-waarde',\n",
    "       ylabel='Y-waarde',\n",
    "       title='Lijnen')\n",
    "\n",
    "ax.plot(x,y,'-r')\n",
    "ax.plot(x,y2,'--g')\n",
    "\n",
    "ax.legend(['x+1','-x+10'])\n",
    "ax.annotate('Midden', xy=(5,7),xytext=(7,12), arrowprops=dict(facecolor='black',shrink=0.05))"
   ]
  },
  {
   "cell_type": "code",
   "execution_count": null,
   "metadata": {},
   "outputs": [],
   "source": [
    "# Variaties in ticks (as-gegevens) (OO interface)\n",
    "fig = plt.figure()\n",
    "ax = plt.axes()\n",
    "ax.set(xlim=(-1,11),\n",
    "       ylim=(0,15),\n",
    "       xlabel='X-waarde',\n",
    "       ylabel='Y-waarde',\n",
    "       title='Lijnen')\n",
    "\n",
    "# beperk X-as tot 4 punten:\n",
    "ax.xaxis.set_major_locator(plt.MaxNLocator(4))\n",
    "\n",
    "ax.plot(x,y,'-r')\n",
    "ax.plot(x,y2,'--g')\n"
   ]
  },
  {
   "cell_type": "code",
   "execution_count": null,
   "metadata": {},
   "outputs": [],
   "source": [
    "# Subplots (standaard interface)\n",
    "\n",
    "plt.subplot(1,2,1)  # 1 rij, 2 kolommen, kolom 1\n",
    "plt.xlim(-1,11)\n",
    "plt.ylim(0,15)\n",
    "plt.plot(x,y,'-r')  # rode doorlopende lijn\n",
    "\n",
    "plt.subplot(1,2,2)  # 1 rij, 2 kolommen, kolom 1\n",
    "plt.xlim(-1,11)\n",
    "plt.ylim(0,15)\n",
    "plt.plot(x,y2,'--g')  # groene gestreepte lijn\n",
    "\n",
    "plt.show()"
   ]
  },
  {
   "cell_type": "code",
   "execution_count": null,
   "metadata": {},
   "outputs": [],
   "source": [
    "# subplots (OO-interface)\n",
    "\n",
    "# 2 rijen 3 kolommen\n",
    "fig, ax = plt.subplots(2,3,sharex='col', sharey='row')\n",
    "\n",
    "# plt.subplots: 0-based array\n",
    "\n",
    "# 1e rij, kolom 1\n",
    "ax[0,0].plot(x,y,'-r')\n",
    "\n",
    "# 2e rij, kolom 3\n",
    "ax[1,2].plot(x,y2,'--g')"
   ]
  },
  {
   "cell_type": "markdown",
   "metadata": {},
   "source": [
    "## Andere grafieken"
   ]
  },
  {
   "cell_type": "code",
   "execution_count": null,
   "metadata": {},
   "outputs": [],
   "source": [
    "# Scatter grafiek\n",
    "xs = np.linspace(0,10,11)   # 11 getallen tussen de 0 en 10\n",
    "\n",
    "ys = xs + 1\n",
    "plt.scatter(xs,ys,marker='o')   # marker kent heel veel instellingsmogelijkheden"
   ]
  },
  {
   "cell_type": "code",
   "execution_count": null,
   "metadata": {},
   "outputs": [],
   "source": [
    "# Errorbar grafiek, met seaborn opmaak\n",
    "plt.style.use('seaborn-white')\n",
    "xe = np.linspace(0,10,11)   # 10 getallen\n",
    "ye = xe * xe    # kwadrateren\n",
    "dy = ye * 0.2   # error: +/-20% van de berekende waarde\n",
    "plt.errorbar(xe, ye, yerr=dy, fmt='.k')\n",
    "plt.show()"
   ]
  },
  {
   "cell_type": "code",
   "execution_count": null,
   "metadata": {},
   "outputs": [],
   "source": [
    "# Histogram, verdeling van de waarden\n",
    "\n",
    "yh = np.random.randn(1000)   # 1000 getallen rond de 0, die normaal verdeeld zijn\n",
    "plt.hist(yh,bins=9)          # histogram van 9 'balken'\n",
    "plt.show()"
   ]
  },
  {
   "cell_type": "code",
   "execution_count": null,
   "metadata": {},
   "outputs": [],
   "source": [
    "# Bar chart\n",
    "xb = np.linspace(0,10,11)   # 10 getallen\n",
    "yb = xb * xb    # kwadrateren\n",
    "plt.bar(xb,yb)\n",
    "plt.show()"
   ]
  },
  {
   "cell_type": "code",
   "execution_count": null,
   "metadata": {},
   "outputs": [],
   "source": [
    "# Pie chart\n",
    "yp = np.array([25,50,35,70])\n",
    "plt.pie(yp)\n",
    "plt.show()"
   ]
  },
  {
   "cell_type": "markdown",
   "metadata": {},
   "source": [
    "<a id=\"holoviews\"></a>\n",
    "## HoloViews"
   ]
  },
  {
   "cell_type": "markdown",
   "metadata": {},
   "source": [
    "\n",
    "### Why HoloViews?\n",
    "\n",
    "HoloViews is an [open-source](https://github.com/ioam/holoviews/) Python 2 and 3 library for data analysis and visualization. Python already has excellent tools like numpy, pandas, and xarray for data processing, and bokeh and matplotlib for plotting, so why yet another library?\n",
    "\n",
    "**HoloViews helps you understand your data better, by letting you work seamlessly with both the data *and* its graphical representation.**\n",
    "\n",
    "HoloViews focuses on bundling your data together with the appropriate metadata to support both analysis and visualization, making your raw data *and* its visualization equally accessible at all times.  This process can be unfamiliar to those used to traditional data-processing and plotting tools, and this getting-started guide is meant to demonstrate how it all works at a high level.  More detailed information about each topic is then provided in the [User Guide](../user_guide/).\n",
    "\n",
    "With HoloViews, instead of building a plot using direct calls to a plotting library, you first describe your data with a small amount of crucial semantic information required to make it visualizable, then you specify additional metadata as needed to determine more detailed aspects of your visualization. This approach provides immediate, automatic visualization that can be effortlessly requested at any time as your data evolves, rendered automatically by one of the supported plotting libraries (such as Bokeh or Matplotlib). \n",
    "\n",
    "\n",
    "### Tabulated data: subway stations\n",
    "\n",
    "To illustrate how this process works, we will demonstrate some of the key features of HoloViews using a collection of datasets related to transportation in New York City. First let's run some imports to make [numpy](http://numpy.org) and [pandas](http://pandas.pydata.org) accessible for loading the data. Here we start with a table of subway station information loaded from a CSV file with pandas:"
   ]
  },
  {
   "cell_type": "code",
   "execution_count": null,
   "metadata": {},
   "outputs": [],
   "source": [
    "import pandas as pd\n",
    "import numpy as np\n",
    "import holoviews as hv\n",
    "hv.extension('bokeh')"
   ]
  },
  {
   "cell_type": "markdown",
   "metadata": {},
   "source": [
    "This is the standard way to make the numpy and pandas libraries available in the namespace. We recommend always importing HoloViews as ``hv`` and if you haven't already installed HoloViews, check out the install instructions on our [homepage](www.holoviews.org).\n",
    "\n",
    "Note that after importing HoloViews as ``hv`` we run ``hv.extension('bokeh')`` to load the bokeh plotting extension, allowing us to generate visualizations with [Bokeh](http://bokeh.pydata.org/). In the next section we will see how you can use other plotting libraries such as [matplotlib](http://matplotlib.org) and even how you can mix and match between them.\n",
    "\n",
    "Now let's load our subway data using pandas:"
   ]
  },
  {
   "cell_type": "code",
   "execution_count": null,
   "metadata": {},
   "outputs": [],
   "source": [
    "station_info = pd.read_csv('visualisatie_holoviews_stations.csv')\n",
    "station_info.head()"
   ]
  },
  {
   "cell_type": "markdown",
   "metadata": {},
   "source": [
    "We see that this table contains the subway station name, its latitude and longitude, the year it was opened, the number of services available from the station and ther names, and finally the yearly ridership (in millions for 2015)."
   ]
  },
  {
   "cell_type": "markdown",
   "metadata": {},
   "source": [
    "### ``Elements`` of visualization\n",
    "\n",
    "We can immediately visualize some of the the data in this table as a scatter plot. Let's view how ridership varies with the number of services offered at each station:"
   ]
  },
  {
   "cell_type": "code",
   "execution_count": null,
   "metadata": {},
   "outputs": [],
   "source": [
    "scatter = hv.Scatter(station_info, 'services', 'ridership')\n",
    "scatter"
   ]
  },
  {
   "cell_type": "markdown",
   "metadata": {},
   "source": [
    "Here we passed our dataframe to [``hv.Scatter``](../reference/elements/elements/bokeh/Scatter.ipynb) to create an *object* called `scatter`, which is independent of any plotting library. HoloViews provides a wide range of Element types, all visible in the [Reference Gallery](http://holoviews.org/reference/index.html).\n",
    "\n",
    "In this example, `scatter` is a simple wrapper around our dataframe that knows that the 'services' column is the independent variable, normally plotted along the x-axis, and that the 'ridership' column is a dependent variable, plotted on the y-axis. These are our *dimensions* which we will describe in more detail a little later.\n",
    "\n",
    "Given that we have the handle ``scatter`` on our ``Scatter`` object, we can show that it is indeed an object and not a plot by printing it:"
   ]
  },
  {
   "cell_type": "code",
   "execution_count": null,
   "metadata": {},
   "outputs": [],
   "source": [
    "print(scatter)"
   ]
  },
  {
   "cell_type": "markdown",
   "metadata": {},
   "source": [
    "The bokeh plot above is simply the rich, visual representation of ``scatter`` which is plotted automatically by HoloViews and displayed automatically in the [Jupyter notebook](https://jupyter.org/). Although HoloViews itself is independent of notebooks, this convenience makes working with HoloViews easiest in the notebook environment."
   ]
  },
  {
   "cell_type": "markdown",
   "metadata": {},
   "source": [
    "### Compositional ``Layouts``\n",
    "\n",
    "The class [``Scatter``](../reference/elements/elements/bokeh/Scatter.ipynb) is a subclass of ``Element``.  As shown in our [element gallery](http://holoviews.org/reference/index.html), Elements are the simplest viewable components in HoloViews. Now that we have a handle on ``scatter``, we can demonstrate the compositionality of these objects:"
   ]
  },
  {
   "cell_type": "code",
   "execution_count": null,
   "metadata": {},
   "outputs": [],
   "source": [
    "layout = scatter + hv.Histogram(np.histogram(station_info['opened'], bins=24), kdims=['opened'])\n",
    "layout"
   ]
  },
  {
   "cell_type": "markdown",
   "metadata": {},
   "source": [
    "In a single line using the ``+`` operator, we created a new, compositional object called a ``Layout`` built from our scatter visualizations and a ``Histogram`` that shows how many subway stations opened in Manhattan since 1900. Note that once again, all the plotting is happening behind the scenes. The ``layout`` is a not a plot, it's a new object that exists independently of any given plotting system:"
   ]
  },
  {
   "cell_type": "code",
   "execution_count": null,
   "metadata": {},
   "outputs": [],
   "source": [
    "print(layout)"
   ]
  },
  {
   "cell_type": "markdown",
   "metadata": {},
   "source": [
    "### Array data: taxi dropoffs\n",
    "\n",
    "So far we have visualized data in a [pandas ``DataFrame``](http://pandas.pydata.org/) but ``HoloViews`` is as agnostic to data formats as it is to plotting libraries; see [Customizing Plots](../user_guide/03-Customizing_Plots.ipynb) for more information. This means we can work with array data as easily as we can work with  tabular data. To demonstrate this, here are some [numpy arrays](http://www.numpy.org/) relating to taxi dropoff locations in New York City:"
   ]
  },
  {
   "cell_type": "code",
   "execution_count": null,
   "metadata": {},
   "outputs": [],
   "source": [
    "taxi_dropoffs = {hour:arr for hour, arr in np.load('visualisatie_holoviews_taxi.npz').items()}\n",
    "#print('Hours: {hours}'.format(hours=', '.join(taxi_dropoffs.keys())))\n",
    "print('Taxi data contains {num} arrays (one per hour).\\nDescription of the first array:\\n'.format(num=len(taxi_dropoffs)))\n",
    "np.info(taxi_dropoffs['0'])"
   ]
  },
  {
   "cell_type": "markdown",
   "metadata": {},
   "source": [
    "As we can see, this dataset contains 24 arrays (one for each hour of the day) of taxi dropoff locations (by latitude and longitude), aggregated over one month in 2015. The array shown above contains the accumulated dropoffs for the first hour of the day."
   ]
  },
  {
   "cell_type": "markdown",
   "metadata": {},
   "source": [
    "### Compositional  ``Overlays``\n",
    "\n",
    "Once again, we can easily visualize this data with HoloViews by passing our array to [``hv.Image``](../reference/elements/elements/bokeh/Image.ipynb) to create the ``image`` object.  This object has the spatial extent of the data declared as the ``bounds``, in terms of the corresponding range of latitudes and longitudes."
   ]
  },
  {
   "cell_type": "code",
   "execution_count": null,
   "metadata": {},
   "outputs": [],
   "source": [
    "bounds = (-74.05, 40.70, -73.90, 40.80)\n",
    "image = hv.Image(taxi_dropoffs['0'], ['lon','lat'], bounds=bounds)"
   ]
  },
  {
   "cell_type": "markdown",
   "metadata": {},
   "source": [
    "HoloViews supports ``numpy``, ``xarray``, ``iris``, and ``dask`` arrays when working with array data (see [Gridded Datasets](../user_guide/Gridded_Datasets.ipynb)).  We can also compose elements containing array data with those containing tabular data. To illustrate, let's pass our tabular station data to a [``Points``](../reference/elements/elements/bokeh/Points.ipynb) element which is used to mark positions in two-dimensional space:"
   ]
  },
  {
   "cell_type": "code",
   "execution_count": null,
   "metadata": {},
   "outputs": [],
   "source": [
    "points = hv.Points(station_info, ['lon','lat'])\n",
    "image + image * points"
   ]
  },
  {
   "cell_type": "markdown",
   "metadata": {},
   "source": [
    "\n",
    "On the left, we have the visual representation of the ``image`` object we declared. Using ``+`` we put it into a ``Layout`` together with a new compositional object created with the ``*`` operator called an ``Overlay``. This particular overlay displays the station positions on top of our image which works correctly as both elements contain data that exist in the same space, namely New York City.\n",
    "\n",
    "This overlay on the right lets us see the location of all the subway stations in relation to our midnight taxi dropoffs. Of course,  HoloViews allows you to visually express more of the available information with our points.  For instance, you could represent the ridership of each subway by point color or point size. For more information see [Customizing Plots](../user_guide/03-Customizing_Plots.ipynb)."
   ]
  },
  {
   "cell_type": "markdown",
   "metadata": {},
   "source": [
    "### Effortlessly exploring data\n",
    "\n",
    "You can keep composing datastructures together until there are more dimensions than can fit on simultaneously on your screen. For instance, you can visualize a dictionary of [``Images``](../reference/elements/elements/bokeh/Image.ipynb) (one for every hour of the day) by declaring a ``HoloMap``: "
   ]
  },
  {
   "cell_type": "code",
   "execution_count": null,
   "metadata": {},
   "outputs": [],
   "source": [
    "dictionary = {int(hour):hv.Image(arr, ['lon','lat'], bounds=bounds) \n",
    "              for hour, arr in taxi_dropoffs.items()}\n",
    "hv.HoloMap(dictionary, kdims='Hour')"
   ]
  },
  {
   "cell_type": "markdown",
   "metadata": {},
   "source": [
    "This is yet another object which is rendered by the HoloViews plotting system with Bokeh behind the scenes:"
   ]
  },
  {
   "cell_type": "code",
   "execution_count": null,
   "metadata": {},
   "outputs": [],
   "source": [
    "holomap = hv.HoloMap(dictionary, kdims='Hour')\n",
    "print(holomap)"
   ]
  },
  {
   "cell_type": "markdown",
   "metadata": {},
   "source": [
    "As this a ``HoloMap`` is a container for our ``Image`` elements, we can use the methods it offers to return new containers. For instance, in the next cell we select three different hours of the morning from the ``HoloMap`` and display them as a ``Layout``:"
   ]
  },
  {
   "cell_type": "code",
   "execution_count": null,
   "metadata": {},
   "outputs": [],
   "source": [
    "holomap.select(Hour={3,6,9}).layout()"
   ]
  },
  {
   "cell_type": "markdown",
   "metadata": {},
   "source": [
    "Here the ``select`` method picks values from the specified 'Hour' dimension. The various Elements like ``Scatter`` and ``Image`` all accept two types of dimensions: *key dimensions* (i.e., indexing dimensions or independent variables), and *value dimensions* (resulting data or dependent variables).  These attributes are named ``kdims`` and ``vdims``, respectively, and can be passed as the second and third positional argument for all Elements other than Histogram. As you can see above, the `HoloMap`` of ``Image``s also has a ``kdims`` argument, allowing it to be indexed over those dimensions.  The ``kdims`` and ``vdims`` accept either single dimensions or lists of dimensions, and let you express the space in which your data lives.\n",
    "\n",
    "Note how the ``Image`` elements where the holomap is constructed are declared using key dimensions of ``['lat','lon']`` which describes the fact that New York City is being viewed in terms of longitude and latitude. This semantic information is automatically mapped to our visualization by the HoloViews plotting system, which sets the x-axis and y-axis labels accordingly. In the case of the ``HoloMap`` we used a key dimension of ``'Hour'`` to declare that the interactive slider ranges over the hours of the day."
   ]
  },
  {
   "cell_type": "markdown",
   "metadata": {},
   "source": [
    "### Data as visualization\n",
    "\n",
    "Holomaps are able to compose with elements and other holomaps into overlay and layouts just as easily as you compose two elements together. Here is one such composition where we select a range of longitudes and latitudes from our [``Points``](../reference/elements/elements/bokeh/Points.ipynb) before we overlay them:"
   ]
  },
  {
   "cell_type": "code",
   "execution_count": null,
   "metadata": {},
   "outputs": [],
   "source": [
    "%%opts Image [xrotation=90] Points (color='deepskyblue' marker='v' size=6)\n",
    "hotspot = points.select(lon=(-73.99, -73.96), lat=(40.75,40.765))\n",
    "composition = holomap * hotspot\n",
    "composition"
   ]
  },
  {
   "cell_type": "markdown",
   "metadata": {},
   "source": [
    "The line starting with ``%%opts`` used to specify the visual style is part of the HoloViews options system described in the next 'Getting started' section which also describes how to achieve the same effect with standard Python syntax.\n",
    "\n",
    "In the cell above we created and styled a composite object within a few short lines of code. Furthermore, this composite object relates tabular and array data and is immediately presented in a way that can be explored interactively. This way of working enables highly productive exploration, allowing new insights to be gained easily. For instance, after exploring with the slider we notice a hotspot of taxi dropoffs at 7am which we can select as follows:"
   ]
  },
  {
   "cell_type": "code",
   "execution_count": null,
   "metadata": {},
   "outputs": [],
   "source": [
    "composition.select(Hour=7)"
   ]
  },
  {
   "cell_type": "markdown",
   "metadata": {},
   "source": [
    "We can now see that the slice of subway locations was chosen in relation to the hotspot in taxi dropoffs around 7am in the morning. This area of Manhattan just south of Central Park contains many popular tourist attractions, including Times Square, and we can infer that tourists often take short taxi rides from the subway stations into this area.\n",
    "\n",
    "At this point it may appear that HoloViews is about easily generating explorative, interactive visualizations *from* your data. In fact, as we have been building these visualizations we have actually been working *with* our data, as we can show by examining the ``.data`` attribute of our sliced subway locations:"
   ]
  },
  {
   "cell_type": "code",
   "execution_count": null,
   "metadata": {},
   "outputs": [],
   "source": [
    "hotspot.data"
   ]
  },
  {
   "cell_type": "markdown",
   "metadata": {},
   "source": [
    "We see that slicing the HoloViews [``Points``](../reference/elements/elements/bokeh/Points.ipynb) object in the visualization sliced the underlying data, with the structure of the table left intact. We can see that the Times Square 42nd Street station is indeed one of the subway stations surrounding our taxi dropoff hotspot. This seamless interplay and exchange between the raw data and easy-to-generate visualizations of it is crucial to how HoloViews helps you understand your data."
   ]
  },
  {
   "cell_type": "markdown",
   "metadata": {},
   "source": [
    "### Onwards\n",
    "\n",
    "The next getting-started section shows how to do [Customization](2-Customization.ipynb) of the visual appearance of your data, allowing you highlight the most important features and change the look and feel. Other related topics for deeper study:\n",
    " \n",
    "* The above plots did not require any special geographic-data support, but when working with larger areas of the Earth's surface (for which curvature becomes significant) or when overlaying data with geographic features, the separate [GeoViews](http://geo.holoviews.org) library provides convenient geo-specific extensions to HoloViews.\n",
    "* The taxi array data was derived from a very large tabular dataset and rasterized using [datashader](http://https://github.com/bokeh/datashader), an optional add-on to HoloViews and Bokeh that makes it feasible to work with very large datasets in a web browser."
   ]
  },
  {
   "cell_type": "markdown",
   "metadata": {},
   "source": [
    "### Hoog abstractieniveau en interactie"
   ]
  },
  {
   "cell_type": "markdown",
   "metadata": {},
   "source": [
    "Voorbeeld om het hoge abstractieniveau en interactie van Holoviews te tonen."
   ]
  },
  {
   "cell_type": "code",
   "execution_count": null,
   "metadata": {},
   "outputs": [],
   "source": [
    "import pandas as pd                                        # DataFrame-functionaliteit\n",
    "import numpy as np                                         # Converteren van DataBunch\n",
    "\n",
    "from sklearn import datasets                               # Bevat de Iris-dataset\n",
    "\n",
    "import holoviews as hv\n",
    "\n",
    "hv.extension('bokeh')\n"
   ]
  },
  {
   "cell_type": "code",
   "execution_count": null,
   "metadata": {},
   "outputs": [],
   "source": [
    "irisBunch = datasets.load_iris()\n",
    "\n",
    "\n",
    "iris = pd.DataFrame(data= np.c_[irisBunch['data'], irisBunch['target']],\n",
    "                     columns= irisBunch['feature_names'] + ['species'])\n",
    "\n",
    "iris2 = iris.drop(['sepal length (cm)', 'sepal width (cm)'], axis=1)\n",
    "iris2.head()\n"
   ]
  },
  {
   "cell_type": "code",
   "execution_count": null,
   "metadata": {},
   "outputs": [],
   "source": [
    "vdims = [('petal length (cm)')]\n",
    "ds = hv.Dataset(iris2, ['petal width (cm)', 'species'], vdims)"
   ]
  },
  {
   "cell_type": "code",
   "execution_count": null,
   "metadata": {},
   "outputs": [],
   "source": [
    "%%opts Scatter [width=500 height=500]\n",
    "\n",
    "ds.to(hv.Scatter, 'petal width (cm)', 'petal length (cm)')"
   ]
  },
  {
   "cell_type": "markdown",
   "metadata": {},
   "source": [
    "Schuifje\n",
    "\n",
    "The various Elements like Scatter and Image all accept two types of dimensions: key dimensions (i.e., indexing dimensions or independent variables), and value dimensions (resulting data or dependent variables). These attributes are named kdims and vdims, respectively, and can be passed as the second and third positional argument for all Elements other than Histogram. As you can see above, \n",
    "\n",
    "https://holoviews.org/getting_started/Introduction.html"
   ]
  },
  {
   "cell_type": "code",
   "execution_count": null,
   "metadata": {},
   "outputs": [],
   "source": [
    "Bar chart met opties om vakken te kiezen?\n",
    "\n",
    "http://holoviews.org/user_guide/Dashboards.html\n",
    "\n"
   ]
  },
  {
   "cell_type": "markdown",
   "metadata": {},
   "source": [
    "<a id=\"seaborn\"></a>\n",
    "## Seaborn"
   ]
  },
  {
   "cell_type": "code",
   "execution_count": null,
   "metadata": {},
   "outputs": [],
   "source": [
    "import numpy as np\n",
    "\n",
    "X = np.linspace(-np.pi, np.pi, 256, endpoint=True)\n",
    "C,S = np.cos(X), np.sin(X)"
   ]
  },
  {
   "cell_type": "code",
   "execution_count": null,
   "metadata": {},
   "outputs": [],
   "source": [
    "import matplotlib.pyplot as plt\n",
    "\n",
    "plt.plot(X,C)\n",
    "plt.plot(X,S)\n",
    "\n",
    "plt.show()"
   ]
  },
  {
   "cell_type": "code",
   "execution_count": null,
   "metadata": {},
   "outputs": [],
   "source": [
    "plt.style.use('seaborn-whitegrid')\n",
    "\n",
    "# Create a new figure of size 8x6 points, using 100 dots per inch\n",
    "plt.figure(figsize=(8,6), dpi=80)\n",
    "\n",
    "grid = plt.GridSpec(2,3,wspace=0.4,hspace=0.3)\n",
    "\n",
    "# Create a new subplot from a grid of 1x1\n",
    "plt.subplot(grid[0,0])\n",
    "\n",
    "X = np.linspace(-np.pi, np.pi, 20, endpoint=True)\n",
    "C,S = np.cos(X), np.sin(X)\n",
    "\n",
    "# Plot cosine using blue color with a continuous line of width 1 (pixels)\n",
    "plt.plot(X, C, '->', color=\"pink\", linewidth=1.0)\n",
    "\n",
    "plt.subplot(grid[0,1])\n",
    "\n",
    "# Plot sine using green color with a continuous line of width 1 (pixels)\n",
    "plt.plot(X, S, 'o', color=\"green\", linewidth=1.0, linestyle=\"-\")\n",
    "\n",
    "# Set x limits\n",
    "plt.xlim(-4.0,4.0)\n",
    "plt.axis('equal')\n",
    "\n",
    "# Set x ticks\n",
    "plt.xticks(np.linspace(-4,4,3), ('Hoi','Dag'))\n",
    "\n",
    "# Set y limits\n",
    "#plt.ylim(-1.0,1.0)\n",
    "\n",
    "# Set y ticks\n",
    "plt.yticks(np.linspace(-1,1,5,endpoint=True))\n",
    "\n",
    "# Save figure using 72 dots per inch\n",
    "# savefig(\"../figures/exercice_2.png\",dpi=72)\n",
    "\n",
    "\n",
    "p = -2 * np.pi * np.random.random_sample((10)) + np.pi\n",
    "q = -2 * np.random.random_sample((10)) + 1\n",
    "sizes = np.linspace(100,1000,10)\n",
    "\n",
    "plt.scatter(p,q,marker='o',s=sizes, c=sizes)\n",
    "plt.colorbar()\n",
    "\n",
    "plt.subplot(grid[0,2])\n",
    "\n",
    "yerr = 0.5\n",
    "Cerror = np.cos(X) + yerr*np.random.randn(20)\n",
    "\n",
    "plt.errorbar(X,Cerror,yerr=yerr,fmt='.k')\n",
    "\n",
    "plt.subplot(grid[1,:])\n",
    "\n",
    "data1 = np.random.randn(10000)\n",
    "data2 = np.random.randn(10000)*2\n",
    "data3 = np.random.randn(10000)+2\n",
    "\n",
    "kwargs = dict(histtype='stepfilled', alpha=0.3, normed=True, bins=50)\n",
    "\n",
    "plt.hist(data1, **kwargs, label='Basis')\n",
    "plt.hist(data2, **kwargs, label='Dubbel')\n",
    "plt.hist(data3, **kwargs, label='Opgehoogd')\n",
    "\n",
    "plt.legend()\n",
    "\n",
    "print(np.histogram(data1, bins=5))\n",
    "\n",
    "# Show result on screen\n",
    "plt.show()\n"
   ]
  },
  {
   "cell_type": "code",
   "execution_count": null,
   "metadata": {},
   "outputs": [],
   "source": [
    "fig, ax = plt.subplots(2)\n",
    "ax[0].plot(X,C)\n",
    "ax[1].plot(X,S)\n",
    "ax[0].text(0,1.1, \"Top o' the sinus\", size=10, color='gray')\n",
    "plt.show()"
   ]
  },
  {
   "cell_type": "code",
   "execution_count": null,
   "metadata": {},
   "outputs": [],
   "source": [
    "import pandas as pd\n",
    "import seaborn as sns\n",
    "\n",
    "data = np.random.multivariate_normal([0,0], [[5,2],[2,2]], size=2000)\n",
    "data = pd.DataFrame(data,columns=['x','y'])\n",
    "\n",
    "for col in 'xy':\n",
    "    sns.distplot(data[col])\n",
    "    \n",
    "plt.ylim(.0,.35)\n",
    "    \n",
    "plt.show()"
   ]
  },
  {
   "cell_type": "code",
   "execution_count": null,
   "metadata": {},
   "outputs": [],
   "source": [
    "sns.kdeplot(data['x'], data['y'])\n",
    "plt.show()"
   ]
  },
  {
   "cell_type": "code",
   "execution_count": null,
   "metadata": {},
   "outputs": [],
   "source": []
  }
 ],
 "metadata": {
  "kernelspec": {
   "display_name": "Python 3 (ipykernel)",
   "language": "python",
   "name": "python3"
  },
  "language_info": {
   "codemirror_mode": {
    "name": "ipython",
    "version": 3
   },
   "file_extension": ".py",
   "mimetype": "text/x-python",
   "name": "python",
   "nbconvert_exporter": "python",
   "pygments_lexer": "ipython3",
   "version": "3.8.2"
  }
 },
 "nbformat": 4,
 "nbformat_minor": 4
}
