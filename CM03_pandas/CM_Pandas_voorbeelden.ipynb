{
 "cells": [
  {
   "cell_type": "markdown",
   "metadata": {
    "id": "_C9bfcZR83_y"
   },
   "source": [
    "# Pandas – voorbeelden\n",
    "\n",
    "In dit notebook vind je de volgende voorbeelden:\n",
    "- <a href=\"#pandas_vb1\"> Introductie DataFrame </a> Bestudeer deze introductie voor het college over pandas. Beantwoord de bijbehorende <a href=\"pd_vb_vraag1\">vraag </a>.\n",
    "- <a href=\"#pandas_vb2\"> Werken met databestanden </a> Bestudeer dit voorbeeld voor het college over pandas. Beantwoord de bijbehorende <a href=\"#pd_vb_vraag2\">vragen</a>\n",
    "- <a href=\"#pandas_vb3\">Samenvoegen van DataFrames</a> Dit ga je (mogelijk) nodig hebben bij je casus of project.\n",
    "- <a href=\"#pandas_vb4\">Complexere acties</a> Dit ga je (mogelijk) nodig hebben bij je casus of project."
   ]
  },
  {
   "cell_type": "code",
   "execution_count": null,
   "metadata": {},
   "outputs": [],
   "source": []
  },
  {
   "cell_type": "code",
   "execution_count": null,
   "metadata": {},
   "outputs": [],
   "source": []
  },
  {
   "cell_type": "code",
   "execution_count": null,
   "metadata": {},
   "outputs": [],
   "source": []
  },
  {
   "cell_type": "markdown",
   "metadata": {},
   "source": [
    "<a id=\"pandas_vb1\"></a>\n",
    "## Voorbeeld 1 Introductie DataFrame\n",
    "De DataFrame Data Structure is bedoeld voor het opslaan en verwerken van twee-dimensionale gegevens.\n",
    "Je kunt dit vergelijken met de inhoud van een database tabel. \n",
    "In dit voorbeeld bekijken we hoe je een dataframe aanmaakt, hoe je gegevens selecteert en hoe je data wijzigt.\n",
    "\n",
    "Er is ook een een-dimensionale datastructuur: Series. Deze datastructuur zullen we bij CM niet behandelen maar als je daar meer info over wilt hebben, is er een apart notebook beschikbaar.\n",
    "\n",
    "*bronvermelding: \n",
    "Dit notebook komt van de Coursera cursus \n",
    "Introduction to Data Science in Python - week 2\n",
    "University of Michigan.*"
   ]
  },
  {
   "cell_type": "code",
   "execution_count": null,
   "metadata": {
    "id": "Vnw70C5kv80s"
   },
   "outputs": [],
   "source": [
    "# importeren van de numpy en pandas bibliotheek; Pandas gebruikt NumPy bij verwerkingen\n",
    "import numpy as np\n",
    "import pandas as pd"
   ]
  },
  {
   "cell_type": "markdown",
   "metadata": {
    "id": "JsR71DOj92FM"
   },
   "source": [
    "In de praktijk zal een DataFrame vaak gevuld worden met data uit een bronbestand zoals een .csv file. Om de werking van een DataFrame uit te leggen, starten we nu echter met het handmatig vullen van een DataFrame. "
   ]
  },
  {
   "cell_type": "code",
   "execution_count": null,
   "metadata": {
    "colab": {
     "base_uri": "https://localhost:8080/",
     "height": 143
    },
    "id": "WytbAkDM91Yk",
    "outputId": "bb8e9376-7178-4a1f-a7ca-2583a5e218e6"
   },
   "outputs": [],
   "source": [
    "# Aanmaken van een DataFrame door drie series toe te voegen:\n",
    "# - verkoopgegevens van drie winkels in een Pandas Series zetten\n",
    "\n",
    "purchase_1 = pd.Series({'Name': 'Chris',\n",
    "                        'Item Purchased': 'Dog Food',\n",
    "                        'Cost': 22.50})\n",
    "purchase_2 = pd.Series({'Name': 'Kevyn',\n",
    "                        'Item Purchased': 'Kitty Litter',\n",
    "                        'Cost': 2.50})\n",
    "purchase_3 = pd.Series({'Name': 'Vinod',\n",
    "                        'Item Purchased': 'Bird Seed',\n",
    "                        'Cost': 5.00})\n",
    "\n",
    "# De gegevens omzetten naar een dataframe doe je door de series te combineren.\n",
    "# Voordat je dat kunt doen, moet je zowel voor de kolommen als de rijen een 'index' bepalen.\n",
    "# Zo'n index is een unieke waarde waarmee we straks kunnen gaan zoeken naar specifieke data.\n",
    "# - De index van de kolommen is simpelweg de naam van die kolom: die is uniek. Met de kolomnaam kun je dus een deel van de data verticaal selecteren.\n",
    "# - De rij index moeten we toevoegen: dat moet een waarde zijn die liefst uniek is, maar dat hoeft niet. Met deze index kunnen we data horizontaal selecteren.\n",
    "df = pd.DataFrame([purchase_1, purchase_2, purchase_3], index=['Store 1', 'Store 1', 'Store 2'])\n",
    "\n",
    "#afdrukken van de dataframe variabele\n",
    "df"
   ]
  },
  {
   "cell_type": "markdown",
   "metadata": {
    "id": "FL_AaF6C-yJ_"
   },
   "source": [
    "### Selecteren van gegevens\n",
    "\n",
    "Het selecteren van gegevens is een belangrijk onderdeel tijdens de data understanding fase. Een DataFrame is vaak erg groot (veel rijen en veel kolommen) en om inzicht te krijgen in de data zul je vaak zoekacties uitvoeren om slechts een aantal kolommen of aantal rijen van het DataFrame te bekijken. \n",
    "\n",
    "Hieronder tonen we een aantal manieren om data te selecteren."
   ]
  },
  {
   "cell_type": "code",
   "execution_count": null,
   "metadata": {
    "colab": {
     "base_uri": "https://localhost:8080/"
    },
    "id": "qnWSBiIu_ki3",
    "outputId": "3fefbc97-0313-4cc7-b731-a6cb155599bf"
   },
   "outputs": [],
   "source": [
    "# Wanneer je van een specifieke index de data wilt oproepen, gebruik je de expliciete key\n",
    "df.loc['Store 2']"
   ]
  },
  {
   "cell_type": "code",
   "execution_count": null,
   "metadata": {
    "colab": {
     "base_uri": "https://localhost:8080/",
     "height": 112
    },
    "id": "FETjqs2V_krE",
    "outputId": "5e9a9a78-dc20-4eb2-fb5e-adcd43690263"
   },
   "outputs": [],
   "source": [
    "# een index hoeft niet uniek te zijn: dan worden alle rijen getoond als een datastructuur\n",
    "df.loc['Store 1']"
   ]
  },
  {
   "cell_type": "code",
   "execution_count": null,
   "metadata": {
    "colab": {
     "base_uri": "https://localhost:8080/"
    },
    "id": "_cNCsOub_kv8",
    "outputId": "48b66d8c-f6df-4d38-fe7b-ed5fefdc9037"
   },
   "outputs": [],
   "source": [
    "# Je kunt ook de data van een specifieke rij opvragen met behulp van de impliciete key\n",
    "df.iloc[0]"
   ]
  },
  {
   "cell_type": "code",
   "execution_count": null,
   "metadata": {
    "colab": {
     "base_uri": "https://localhost:8080/"
    },
    "id": "YNTx3zMk_ky8",
    "outputId": "84808245-6161-4383-8ad5-9fde98c3c9c7"
   },
   "outputs": [],
   "source": [
    "# Naast rijen, kun je ook kolommen selecteren, gebruik dan de naam van de kolom\n",
    "# Het resultaat is een Series\n",
    "df['Cost']"
   ]
  },
  {
   "cell_type": "code",
   "execution_count": null,
   "metadata": {
    "colab": {
     "base_uri": "https://localhost:8080/",
     "height": 143
    },
    "id": "CTunQmi8wnEI",
    "outputId": "b17863de-67c7-41ec-d018-c840bcc89a59"
   },
   "outputs": [],
   "source": [
    "# Maar je kunt ook als resultaat een DataFrame met 1 kolom creëren\n",
    "df[['Cost']]"
   ]
  },
  {
   "cell_type": "code",
   "execution_count": null,
   "metadata": {
    "colab": {
     "base_uri": "https://localhost:8080/",
     "height": 143
    },
    "id": "t5KBK3hY_k1z",
    "outputId": "33bebc0e-8cf1-4ef3-bbcd-c338638392e4"
   },
   "outputs": [],
   "source": [
    "# Opvragen van meerdere kolommen met waarden. let op de dubbele [[ ]] die nodig zijn !!\n",
    "# Het resultaat moet in dit geval een DataFrame zijn omdat een Series niet meerdere kolommen kan bevatten.\n",
    "df[['Cost','Name']]"
   ]
  },
  {
   "cell_type": "code",
   "execution_count": null,
   "metadata": {
    "colab": {
     "base_uri": "https://localhost:8080/"
    },
    "id": "QcmD7bXnAkf3",
    "outputId": "effa8f7a-db38-4aa5-ed64-372a35bb109f"
   },
   "outputs": [],
   "source": [
    "# Opvragen van een combinatie van een rij en een kolom. \n",
    "# Let op de komma: er zijn nu 2 parameters voor .loc. De eerste is voor de rij, de tweede voor de kolom.\n",
    "df.loc['Store 2','Cost']"
   ]
  },
  {
   "cell_type": "code",
   "execution_count": null,
   "metadata": {
    "colab": {
     "base_uri": "https://localhost:8080/",
     "height": 143
    },
    "id": "MHxxsl2XA3_B",
    "outputId": "4351d0ba-d1f5-4068-ebd7-0dde56cd0087"
   },
   "outputs": [],
   "source": [
    "# Stel dat je de gegevens van 'Store 1' en 'Store 2' wilt tonen, dan geeft dit commando een fout\n",
    "# df.loc['Store 1', 'Store 2']\n",
    "# Dat komt omdat .loc een rij en een kolom verwacht en nu twee rijen als input krijgt\n",
    "\n",
    "# Wanneer je wilt zoeken op twee rijen, verwacht .loc één parameter die bestaat uit twéé inputs: \n",
    "df.loc[['Store 1', 'Store 2']]"
   ]
  },
  {
   "cell_type": "code",
   "execution_count": null,
   "metadata": {
    "id": "4hyhmR3UBkEi"
   },
   "outputs": [],
   "source": [
    "# Om het allemaal nog verwarrender te maken kan soms de ',' kommma vervangen worden door ][\n",
    "# Probeer zelf de volgende maar eens uit\n",
    "#df.loc['Store 1','Cost']\n",
    "#df.loc['Store 1']['Cost']\n",
    "#df.loc['Store 1'][['Name','Cost']]"
   ]
  },
  {
   "cell_type": "code",
   "execution_count": null,
   "metadata": {
    "colab": {
     "base_uri": "https://localhost:8080/",
     "height": 143
    },
    "id": "8fr74keyBpg_",
    "outputId": "64fad74c-b6be-42e8-8433-c229e18b59a2"
   },
   "outputs": [],
   "source": [
    "# Met behulp van de reeks \":\" aanduiding kan een vanaf - tot/met waarde opgegeven worden\n",
    "df.loc['Store 1':'Store 2','Name':'Cost']  # alle rijen vanaf Store 1 t/m Store 2 en de kolommen Cost t/m Name\n"
   ]
  },
  {
   "cell_type": "markdown",
   "metadata": {
    "id": "WPiM18QWxWc5"
   },
   "source": [
    "### Complexere selecties\n",
    "\n",
    "In de praktijk zul je vaak de eerste *x* of laatste *y* rijen willen tonen om een beetje inzicht te krijgen in de data."
   ]
  },
  {
   "cell_type": "code",
   "execution_count": null,
   "metadata": {
    "colab": {
     "base_uri": "https://localhost:8080/",
     "height": 112
    },
    "id": "K3SZRHtJxaHw",
    "outputId": "7d5da37d-8e9a-411a-b394-091f45c30cac"
   },
   "outputs": [],
   "source": [
    "# Selectie van meerdere rij nummers\n",
    "df.iloc[[0,2]]"
   ]
  },
  {
   "cell_type": "code",
   "execution_count": null,
   "metadata": {
    "colab": {
     "base_uri": "https://localhost:8080/",
     "height": 112
    },
    "id": "9wtvSAysxe9X",
    "outputId": "939a1b1e-a177-4f78-ef7d-649615dcd3eb"
   },
   "outputs": [],
   "source": [
    "# Selectie van meerdere rij nummers met het ':' teken\n",
    "# Hiermee haal je rows 0 tot 2 op, dus niet tot en met!\n",
    "df[0:2] "
   ]
  },
  {
   "cell_type": "code",
   "execution_count": null,
   "metadata": {
    "colab": {
     "base_uri": "https://localhost:8080/",
     "height": 143
    },
    "id": "yjxDCmNTxrdH",
    "outputId": "9b9c9373-b2fd-4dbe-ac01-53d8413e3871"
   },
   "outputs": [],
   "source": [
    "# Let op: als je met de expliciete key werk, is het wél tot EN MET\n",
    "df['Store 1':'Store 2'] "
   ]
  },
  {
   "cell_type": "markdown",
   "metadata": {
    "id": "L-XfLwriBx9v"
   },
   "source": [
    "### Logische selecties\n",
    "\n",
    "Het selecteren hierboven is interessant wanneer je weet waar je naar op zoek bent: specifieke rijen of kolommen. Logische selecties kun je gebruiken om inzicht te krijgen in de inhoud van het DataFrame. Je kunt zoeken naar data die groter of kleiner is dan een bepaald getal of gelijk is aan bepaalde tekst."
   ]
  },
  {
   "cell_type": "code",
   "execution_count": null,
   "metadata": {
    "colab": {
     "base_uri": "https://localhost:8080/",
     "height": 112
    },
    "id": "6pUxxqDZCSsi",
    "outputId": "72b5ce35-b0e6-4c59-b4ac-1053e3141315"
   },
   "outputs": [],
   "source": [
    "# Alle rijen met Cost >= 5\n",
    "df[df['Cost'] >= 5]"
   ]
  },
  {
   "cell_type": "markdown",
   "metadata": {
    "id": "THeNUbfYCiHL"
   },
   "source": [
    "**Uitleg**\n",
    "\n",
    "De aanroep die hierboven gebruikt wordt, kan wat verwarrend zijn. Je ziet twee keer de naam van het DataFrame df bijvoorbeeld. Laten we deze analyseren van buiten naar binnen toe.\n",
    "\n",
    "- De buitenste laag is `df[...]`, die hebben we hierboven ook al gezien: hier wordt een bepaalde kolom geselecteerd, zoals met `df['Cost']`\n",
    "- De binnenste laag is `df['Cost'] >= 5`, dat is een conditie.\n",
    "\n",
    "Deze aanroep toont dus de waardes van de kolom 'Cost' die voldoen aan deze conditie."
   ]
  },
  {
   "cell_type": "code",
   "execution_count": null,
   "metadata": {
    "id": "wdB0p3dGDJVE"
   },
   "outputs": [],
   "source": [
    "# Alle namen met Cost >= 5\n",
    "df['Name'][df['Cost'] >= 5]"
   ]
  },
  {
   "cell_type": "markdown",
   "metadata": {
    "id": "GOU_6ue-DTQ6"
   },
   "source": [
    "Als je een kolom wilt tonen, anders dan diegene waar je de conditie op toepast, moet je die apart noemen. \n",
    "\n",
    "1. Je start dus met de selectie `df['Name']`\n",
    "2. Daarna volgt de conditie `[df['Cost'] > = 5]`, let op: die conditie staat dus ook tussen brackets.\n",
    "\n",
    "Het is dus eigenlijk `df[KOLOM][CONDITIE]`"
   ]
  },
  {
   "cell_type": "markdown",
   "metadata": {
    "id": "45XcESKuEmjB"
   },
   "source": [
    "### Wijzigen van kolommen en rijen\n",
    "\n",
    "Data toevoegen aan het DataFrame kan ook. Het eerste voorbeeld zal in de praktijk niet zo vaak gebeuren: je moet dan weten dat het DataFrame met *amount* precies hetzelfde is als het originele DataFrame. In de praktijk zul je, net als bij het *mergen* van twee databasetabellen een *join* moeten uitvoeren op een *key*. Dat wordt in een later notebook besproken.\n",
    "\n",
    "Het tweede voorbeeld is wel representatief: met behulp van een berekening voeg je nieuwe informatie toe aan het DataFrame in de kolom `Bedrag`. Dat zul je in de praktijk vaak doen tijdens de *data preparation* fase."
   ]
  },
  {
   "cell_type": "code",
   "execution_count": null,
   "metadata": {
    "colab": {
     "base_uri": "https://localhost:8080/",
     "height": 217
    },
    "id": "om1oq5ZaEt2W",
    "outputId": "eabc1fa9-96d5-4c8a-ee5d-c2fd6a46d171"
   },
   "outputs": [],
   "source": [
    "#toevoegen van een kolom\n",
    "df['Amount'] = [5, 7, 9]    # met een waarde voor elke regel\n",
    "df['Location'] = 'Utrecht'  # met enkele waarde: wordt aan elke regel toegekend\n",
    "df"
   ]
  },
  {
   "cell_type": "code",
   "execution_count": null,
   "metadata": {
    "colab": {
     "base_uri": "https://localhost:8080/",
     "height": 143
    },
    "id": "7s85UPfkEv-2",
    "outputId": "8285cc31-5540-48d6-f33b-3460d5c13d20"
   },
   "outputs": [],
   "source": [
    "# Toevoegen van een berekende kolom\n",
    "df['Bedrag'] = df['Cost'] * df['Amount']\n",
    "df"
   ]
  },
  {
   "cell_type": "code",
   "execution_count": null,
   "metadata": {
    "id": "LtBvcZJOE0EJ"
   },
   "outputs": [],
   "source": [
    "# het laten vervallen van een rij\n",
    "df.drop('Store 1')"
   ]
  },
  {
   "cell_type": "markdown",
   "metadata": {
    "id": "2uTkl2-hE16Y"
   },
   "source": [
    "**Let op!**\n",
    "\n",
    "De `.drop`-functie beschermt je tegen het perongeluk verwijderen van data. Deze functie creëert een kopie van het DataFrame.\n",
    "\n",
    "Het df-DataFrame is ongewijzigd gebleven. Je zult dus een nieuw DataFrame moeten aanmaken wanneer je met `.drop` wilt werken."
   ]
  },
  {
   "cell_type": "code",
   "execution_count": null,
   "metadata": {
    "colab": {
     "base_uri": "https://localhost:8080/",
     "height": 143
    },
    "id": "iR2R2jMNFcEp",
    "outputId": "4921e2dd-c202-427b-91d3-d617c3803ed3"
   },
   "outputs": [],
   "source": [
    "# dropna maaakt een kopie van de data, origineel is nog aanwezig\n",
    "df"
   ]
  },
  {
   "cell_type": "code",
   "execution_count": null,
   "metadata": {
    "colab": {
     "base_uri": "https://localhost:8080/",
     "height": 81
    },
    "id": "OZ0nBEkjFfB3",
    "outputId": "04a73b2d-a0d9-4b26-f1c4-1d1a8b82d5ee"
   },
   "outputs": [],
   "source": [
    "# Maken van een kopie waaruit de rijen met Store 1 verdwenen zijn:\n",
    "copy_df = df.copy()\n",
    "copy_df = copy_df.drop('Store 1')\n",
    "copy_df"
   ]
  },
  {
   "cell_type": "code",
   "execution_count": null,
   "metadata": {
    "id": "TWEtx68jFj4O"
   },
   "outputs": [],
   "source": [
    "# verwijderen van een kolom\n",
    "copy_df = copy_df.drop('Location', axis=1)\n",
    "copy_df"
   ]
  },
  {
   "cell_type": "markdown",
   "metadata": {
    "id": "M7QNFpYTFlto"
   },
   "source": [
    "**Uitleg**\n",
    "\n",
    "Door het `axis` argument te gebruiken, kun je aangeven in welke dimensie je wilt verwijderen. `axis = 0` is de defaultwaarde die staat voor rijen. Die hoef je dus niet te gebruiken, zoals we eerder ook niet gedaan hebben.\n",
    "\n",
    "Als je afwijkt van de default en een kolom wilt verwijderen, moet je dat argument dus wel meegeven."
   ]
  },
  {
   "cell_type": "markdown",
   "metadata": {
    "id": "tkvnuZ_65JdA"
   },
   "source": [
    "<a id=\"pd_vb_vraag1\"></a>\n",
    "### Vraag bij voorbeeld 1"
   ]
  },
  {
   "cell_type": "markdown",
   "metadata": {},
   "source": [
    "In bovenstaand voorbeeld notebook zie je dat je er in het DataFrame op twee manieren gezocht wordt:\n",
    "- Met df.loc['Store 1']\n",
    "- Met df['Cost']\n",
    "\n",
    "Beargumenteer wat het verschil is tussen beide zoekacties. Probeer termen als horizontaal en verticaal zoeken, index en kolommen te gebruiken.\n"
   ]
  },
  {
   "cell_type": "code",
   "execution_count": null,
   "metadata": {},
   "outputs": [],
   "source": []
  },
  {
   "cell_type": "markdown",
   "metadata": {
    "id": "uxrUNB_zIoyj"
   },
   "source": [
    "<a id=\"pandas_vb2\"></a>\n",
    "## Voorbeeld 2 - Werken met databestanden\n",
    "In dit tweede voorbeeld gaan we kijken naar het inlezen van bestanden en kijken hoe we grotere databestanden kunnen analyseren.\n",
    "\n",
    "*Bronvermelding: \n",
    "Dit voorbeeld komt van de Coursera cursus \n",
    "Introduction to Data Science in Python - week 2\n",
    "University of Michigan.*"
   ]
  },
  {
   "cell_type": "code",
   "execution_count": null,
   "metadata": {
    "id": "KUTISpVSGdvC"
   },
   "outputs": [],
   "source": [
    "# importeren van de numpy en pandas bibliotheek; Pandas gebruikt NumPy bij verwerkingen\n",
    "import numpy as np\n",
    "import pandas as pd"
   ]
  },
  {
   "cell_type": "markdown",
   "metadata": {
    "id": "yosAnEMZKCZr"
   },
   "source": [
    "### Inlezen van bestanden\n",
    "\n",
    "In de praktijk worden externe databronnen gebruikt om een DataFrame te vullen. Een veelgebruikt formaat zijn Comma Separated Files: csv-bestanden.  "
   ]
  },
  {
   "cell_type": "code",
   "execution_count": null,
   "metadata": {
    "colab": {
     "base_uri": "https://localhost:8080/",
     "height": 268
    },
    "id": "fTZcXAk3KAtp",
    "outputId": "52037592-b181-4465-d627-120ed977d744"
   },
   "outputs": [],
   "source": [
    "# inlezen van een csv-bestand en tonen van de eerste 5 rijen\n",
    "med = pd.read_csv('pandas_olympics.csv')\n",
    "med.head()"
   ]
  },
  {
   "cell_type": "markdown",
   "metadata": {
    "id": "ZvJPOfLTMve3"
   },
   "source": [
    "**Let op**\n",
    "\n",
    "De eerste rij ziet er een beetje raar uit. Als je het csv-bestand opent, zie je dat de eerste rij de kolomnamen bevat. Je ziet ook dat er een extra kolom is aangemaakt met een index voor elke rij.\n",
    "\n",
    "We moeten het csv-bestand dus op een andere manier importeren."
   ]
  },
  {
   "cell_type": "code",
   "execution_count": null,
   "metadata": {
    "colab": {
     "base_uri": "https://localhost:8080/",
     "height": 285
    },
    "id": "tB5QLuVKMuv_",
    "outputId": "a9c6e8ce-0a1d-451d-8229-74938e541b1b"
   },
   "outputs": [],
   "source": [
    "# Bovenste rij importeren we niet als data en pandas is zo slim om die rij als kolomnamen te gebruiken. \n",
    "# Daarnaast voegen we een index toe: de eerste kolom (de landnamen want die zijn uniek).\n",
    "med = pd.read_csv('pandas_olympics.csv', index_col = 0, skiprows=1)\n",
    "med.head()"
   ]
  },
  {
   "cell_type": "markdown",
   "metadata": {
    "id": "w2Ea1wviOJEZ"
   },
   "source": [
    "Je ziet nu in het DataFrame de landnamen als index van de rijen en de kolomnamen als index van de kolommen."
   ]
  },
  {
   "cell_type": "code",
   "execution_count": null,
   "metadata": {
    "colab": {
     "base_uri": "https://localhost:8080/"
    },
    "id": "1PovWUT0OR8J",
    "outputId": "33a75da5-c060-4406-e55d-d096a564d88a"
   },
   "outputs": [],
   "source": [
    "# We zullen later zien dat het opvragen van de kolomnamen heel handig is:\n",
    "med.columns"
   ]
  },
  {
   "cell_type": "markdown",
   "metadata": {
    "id": "FPP6xM3HOYNA"
   },
   "source": [
    "Met dit array van namen kun je later makkelijk kolommen selecteren waarop je jouw model gaat trainen. Dat is handiger dan de kolommen zelf te typen want vaak zitten er slordigheden in databestanden zoals rare tekens, verborgen spaties en andere ongein die je een halve dag debuggen kunnen kosten :-)"
   ]
  },
  {
   "cell_type": "code",
   "execution_count": null,
   "metadata": {
    "colab": {
     "base_uri": "https://localhost:8080/",
     "height": 305
    },
    "id": "YOnYXGNNOpWO",
    "outputId": "6b0eb22e-0328-4b79-dfab-aeedf22b1951"
   },
   "outputs": [],
   "source": [
    "# De kolomnamen zeggen nu niet zoveel. Het blijkt dat '01' staat voor 'Gold', '02' voor 'Silver' en '03' voor 'Bronze'.\n",
    "# Met een simpel scriptje kunnen we die namen aanpassen\n",
    "\n",
    "# We gaan loopen over alle waardes van med.columns\n",
    "# We kijken naar de eerste twee karakters van deze waarde\n",
    "# Indien nodig passen we de waardes aan.\n",
    "for col in med.columns:\n",
    "    if col[:2]=='01':\n",
    "        med.rename(columns={col:'Gold' + col[4:]}, inplace=True)\n",
    "    if col[:2]=='02':\n",
    "        med.rename(columns={col:'Silver' + col[4:]}, inplace=True)\n",
    "    if col[:2]=='03':\n",
    "        med.rename(columns={col:'Bronze' + col[4:]}, inplace=True)\n",
    "    if col[:1]=='№':\n",
    "        med.rename(columns={col:'#' + col[1:]}, inplace=True) \n",
    "\n",
    "med.head()"
   ]
  },
  {
   "cell_type": "markdown",
   "metadata": {
    "id": "SMrl7f8f7Mzk"
   },
   "source": [
    "### Eerste analyse\n",
    "\n",
    "Er zijn een aantal analyses waar je vaak mee start."
   ]
  },
  {
   "cell_type": "code",
   "execution_count": null,
   "metadata": {
    "colab": {
     "base_uri": "https://localhost:8080/",
     "height": 382
    },
    "id": "FW5xv52N7T3U",
    "outputId": "76e34c0a-5d21-4c72-fc9c-36c76a492197"
   },
   "outputs": [],
   "source": [
    "# De centrum- en spreidingsmaten van de kwantitatieve variabelen in één oogopslag bekijken\n",
    "med.describe()"
   ]
  },
  {
   "cell_type": "code",
   "execution_count": null,
   "metadata": {
    "colab": {
     "base_uri": "https://localhost:8080/"
    },
    "id": "DPe2JXCY7ftj",
    "outputId": "d80f2247-42b3-49c8-89e5-c479befdac9e"
   },
   "outputs": [],
   "source": [
    "# Overzicht van de inhoud: het aantal niet-missende waardes en het datatype\n",
    "med.info()"
   ]
  },
  {
   "cell_type": "markdown",
   "metadata": {
    "id": "o43oRzGtPU-a"
   },
   "source": [
    "### Queriën van data\n",
    "\n",
    "We hebben in het vorige notebook al gezien hoe we data kunnen selecteren met de keys en met logische selecties. We gaan nu ook een aantal queries gebruiken voor een meer geavanceerde analyse."
   ]
  },
  {
   "cell_type": "code",
   "execution_count": null,
   "metadata": {
    "colab": {
     "base_uri": "https://localhost:8080/"
    },
    "id": "YoH6Ug-oPihV",
    "outputId": "a3fe7acc-a2aa-405f-b584-e57265295eef"
   },
   "outputs": [],
   "source": [
    "# Bepalen van welke landen minimaal 1 gouden medaille hebben\n",
    "med['Gold'] > 0"
   ]
  },
  {
   "cell_type": "markdown",
   "metadata": {
    "id": "jqRdZVTfPoPI"
   },
   "source": [
    "Deze aanroep levert een overzicht op waar we niet zo veel mee kunnen. De volgende aanroep zorgt ervoor dat de landen die minimaal 1 gouden medaille hebben opgeslagen worden in een nieuw DataFrame. "
   ]
  },
  {
   "cell_type": "code",
   "execution_count": null,
   "metadata": {
    "colab": {
     "base_uri": "https://localhost:8080/",
     "height": 322
    },
    "id": "SQqsVuvFP4oa",
    "outputId": "9eb06ac6-47eb-4a6e-e7db-7529e08a499c"
   },
   "outputs": [],
   "source": [
    "# bepalen van de gegevens rijen met minimaal 1 gouden medaille tijdens de zomerspelen\n",
    "only_gold = med[med['Gold'] > 0]\n",
    "only_gold.head()"
   ]
  },
  {
   "cell_type": "code",
   "execution_count": null,
   "metadata": {
    "colab": {
     "base_uri": "https://localhost:8080/"
    },
    "id": "0kuh3PsDQIvh",
    "outputId": "55274b18-dd75-466d-ade2-faabe3447359"
   },
   "outputs": [],
   "source": [
    "# tellen aantal landen met een gouden medaille - tellen van het aantal rijen van een willekeurige kolom\n",
    "only_gold['Gold'].count()"
   ]
  },
  {
   "cell_type": "code",
   "execution_count": null,
   "metadata": {
    "colab": {
     "base_uri": "https://localhost:8080/"
    },
    "id": "j7moSKx6QXHh",
    "outputId": "daab0417-d7bb-479b-e691-9d740d21c54c"
   },
   "outputs": [],
   "source": [
    "# tellen aantal landen met een gouden medaille - alternatieve methode\n",
    "len(only_gold)"
   ]
  },
  {
   "cell_type": "markdown",
   "metadata": {
    "id": "zTU8ZxlgRo8E"
   },
   "source": [
    "Stel dat je wilt weten hoeveel landen een gouden medaille hebben gehaald op de zomerspelen **of** op de winterspelen, dan moet je twee condities gebruiken:\n",
    "\n",
    "1. `med['Gold'] > 0` voor de zomerspelen\n",
    "2. `med['Gold.1'] > 0` voor de winterspelen\n",
    "\n",
    "De gecombineerde conditie is dus `(med['Gold'] > 0) | (med['Gold.1'] > 0)` en je die plaats je in `med[HIER]`.\n"
   ]
  },
  {
   "cell_type": "code",
   "execution_count": null,
   "metadata": {
    "colab": {
     "base_uri": "https://localhost:8080/"
    },
    "id": "8uySJZSaQO6Q",
    "outputId": "e1ec37de-3c7c-4525-9fc4-8964e96d20f7"
   },
   "outputs": [],
   "source": [
    "# bepaal het aantal landen met een gouden medaille voor de zomer of voor de winterspelen\n",
    "len(med[(med['Gold'] > 0) | (med['Gold.1'] > 0)])"
   ]
  },
  {
   "cell_type": "markdown",
   "metadata": {
    "id": "HDBwgTNfnC2I"
   },
   "source": [
    "Op dezelfde manier kun je ook een AND-statement gebruiken i.p.v. OR"
   ]
  },
  {
   "cell_type": "code",
   "execution_count": null,
   "metadata": {
    "colab": {
     "base_uri": "https://localhost:8080/",
     "height": 162
    },
    "id": "ElNKfdVkQRrJ",
    "outputId": "0b21f2ad-9ac2-4f96-dd9f-cc04678a8e1e"
   },
   "outputs": [],
   "source": [
    "# bepaal het land met alléén een gouden medaille voor de winterspelen\n",
    "med[(med['Gold'] == 0 ) & (med['Gold.1'] > 0)]"
   ]
  },
  {
   "cell_type": "markdown",
   "metadata": {
    "id": "4fHE3aKQnjL2"
   },
   "source": [
    "### Omgaan met missende waarden\n",
    "\n",
    "In de praktijk zul je merken dat datasets vaak (= altijd) niet perfect zijn... er zullen rijen of kolommen zijn waar waardes missen. Machine Learning modellen vereisen vaak dat waardes altijd gevuld zijn dus hier moeten we *iets* mee doen.\n",
    "\n",
    "Ontbrekennde meetgegevens willen we graag detecteren en daarna bepalen wat we ermee doen:\n",
    "- de hele rij met gegevens weghalen\n",
    "- ontbrekende meetgegevens invullen met een relevante waarde\n"
   ]
  },
  {
   "cell_type": "code",
   "execution_count": null,
   "metadata": {
    "colab": {
     "base_uri": "https://localhost:8080/",
     "height": 206
    },
    "id": "Pb18t1iDn4c1",
    "outputId": "faebb87d-7f63-483b-baf9-d8fbf8f86ae9"
   },
   "outputs": [],
   "source": [
    "# inlezen van een dataverzameling met daarin ontbrekende meetgegevens\n",
    "dfmv = pd.read_csv('pandas_log.csv')\n",
    "\n",
    "# Je ziet hieronder vaak NaN: not a number. Dat betekent dat een waarde ontbreekt.\n",
    "dfmv.head()"
   ]
  },
  {
   "cell_type": "code",
   "execution_count": null,
   "metadata": {
    "colab": {
     "base_uri": "https://localhost:8080/",
     "height": 206
    },
    "id": "ZaXSF8GNoE6E",
    "outputId": "24cf2bc4-2e42-4d4f-c1e4-fffb43b373c5"
   },
   "outputs": [],
   "source": [
    "# bepalen waar er waarden ontbreken kan met de isnull() functie die een boolean retourneert\n",
    "dfmv.isnull().head()"
   ]
  },
  {
   "cell_type": "code",
   "execution_count": null,
   "metadata": {
    "colab": {
     "base_uri": "https://localhost:8080/"
    },
    "id": "bI6EmcVcopDm",
    "outputId": "f3fd601f-6285-4b6e-b6a7-1b93474cde17"
   },
   "outputs": [],
   "source": [
    "# tellen hoeveel missende waardes er zijn voor elke kolom\n",
    "dfmv.isna().sum()"
   ]
  },
  {
   "cell_type": "code",
   "execution_count": null,
   "metadata": {
    "colab": {
     "base_uri": "https://localhost:8080/",
     "height": 143
    },
    "id": "5IkZwzxvocFA",
    "outputId": "56cf5056-b1f0-46f8-c791-80f769bd3b2f"
   },
   "outputs": [],
   "source": [
    "# bepalen wat we overhouden als we alleen de rijen met volledige meetgegevens hebben\n",
    "# merk op: met any drop je een rij bij minstens 1 missende waarde, met all moet een hele rij leeg zijn\n",
    "dfmv.dropna(how='any')"
   ]
  },
  {
   "cell_type": "markdown",
   "metadata": {
    "id": "oCaZtfrZrEZP"
   },
   "source": [
    "Het zou erg vervelend zijn als we nog maar 3 rijen overhouden... daarom is het goed om te kijken of we de data niet kunnen opvullen. Dat kunnen we doen met behulp van *gezond boerenverstand* en eventueel wat domeinkennis.\n",
    "\n",
    "We zien dat `paused` de waardes `True` of `False` heeft. We kunnen er vanuit gaan dat wanneer de waarde leeg is, de waarde `False` toegekend kan worden. "
   ]
  },
  {
   "cell_type": "code",
   "execution_count": null,
   "metadata": {
    "colab": {
     "base_uri": "https://localhost:8080/",
     "height": 1000
    },
    "id": "kMgOF9Y_q_4H",
    "outputId": "4bc56bad-196b-49d1-84d6-5e347b0ebaa1"
   },
   "outputs": [],
   "source": [
    "# opvullen paused informatie met 'False' als deze niet bekend is\n",
    "dfmv['paused'] = dfmv['paused'].fillna(False)\n",
    "dfmv"
   ]
  },
  {
   "cell_type": "markdown",
   "metadata": {
    "id": "g4JkWoQAr1nB"
   },
   "source": [
    "Het vullen van `volume` is uitdagender. We zien dat er van elke `user` precies één keer een waarde voor `volume` bekend is. Die waarde willen we ook voor de overige records van die `user` gebruiken. \n",
    "\n",
    "We moeten de data eerst sorteren zodanig dat alle `users` gegroepeerd zijn en de eerste rij een waarde heeft voor `volume`. "
   ]
  },
  {
   "cell_type": "code",
   "execution_count": null,
   "metadata": {
    "colab": {
     "base_uri": "https://localhost:8080/",
     "height": 1000
    },
    "id": "cIX3TKHlsVIq",
    "outputId": "2e3e89ef-ad0a-4613-f07f-fac9b6d7b4fb"
   },
   "outputs": [],
   "source": [
    "dfmv.sort_values(['user', 'volume'])"
   ]
  },
  {
   "cell_type": "markdown",
   "metadata": {
    "id": "LfxaKf1ktO6S"
   },
   "source": [
    "Je kunt nu een loopje maken:\n",
    "\n",
    "- Voor elke rij `i`:\n",
    "  - Als `volume` leeg is:\n",
    "    - Geef `volume` van rij `i` de waarde van rij `i-1`\n",
    "\n",
    "Maar Python zou Python niet zijn als er geen *pythonic* manier is om dit te doen. De `fillna` functie heeft een optie om lege waardes te vullen met de vorige niet-lege waarde: \n",
    "Method to use for filling holes in reindexed Series pad / ffill: propagate last valid observation forward to next valid backfill / bfill: use next valid observation to fill gap."
   ]
  },
  {
   "cell_type": "code",
   "execution_count": null,
   "metadata": {
    "colab": {
     "base_uri": "https://localhost:8080/",
     "height": 1000
    },
    "id": "GBUqeLJKs2Vh",
    "outputId": "c0779564-a36a-4533-f5a6-53ca2141ab27"
   },
   "outputs": [],
   "source": [
    "# vul de onbekende waarden op door de voorgaande waarde te kopiëren op volgorde van de index:\n",
    "dfmv = dfmv.fillna(method='ffill')\n",
    "dfmv"
   ]
  },
  {
   "cell_type": "markdown",
   "metadata": {},
   "source": [
    "<a id=\"pd_vb_vraag2\"></a>\n",
    "### Vragen bij voorbeeld 2"
   ]
  },
  {
   "cell_type": "markdown",
   "metadata": {},
   "source": [
    "In het voorbeeld zie je de volgende code: med[med['Gold'] > 0]\n",
    "- Beargumenteer wat hier gebeurt. Waarom wordt hier twee keer naar het DataFrame med verwezen?\n",
    "\n",
    "Ook zie je de volgende code: dfmv.dropna(how='any')\n",
    "- Beargumenteer wat hier gebeurt. Wat is het verschil met how='all' ?"
   ]
  },
  {
   "cell_type": "code",
   "execution_count": null,
   "metadata": {},
   "outputs": [],
   "source": []
  },
  {
   "cell_type": "markdown",
   "metadata": {
    "id": "kD4456ZdwLGM"
   },
   "source": [
    "<a id=\"pandas_vb3\"></a>\n",
    "## Voorbeeld 3 DataFrames samenvoegen\n",
    "In het derde voorbeeld gaan we twee DataFrames samenvoegen.\n",
    "\n",
    "### Bronvermelding\n",
    "Dit notebook komt van de Coursera cursus \n",
    "Introduction to Data Science in Python - week 2\n",
    "University of Michigan."
   ]
  },
  {
   "cell_type": "code",
   "execution_count": null,
   "metadata": {
    "id": "G5Z1cuIxyLqQ"
   },
   "outputs": [],
   "source": [
    "import numpy as np\n",
    "import pandas as pd"
   ]
  },
  {
   "cell_type": "markdown",
   "metadata": {
    "id": "2QDSC2OLyNsW"
   },
   "source": [
    "Het samenvoegen van gegevens uit meerdere DataFrames tot één geheel kun je (uiteraard) pas doen wanneer je minstens twee DataFrames hebt. \n",
    "\n",
    "Als het goed is, hebben de DataFrames een kolom waarvan de inhoud overeenkomt met het andere DataFrame. Die kolommen kies je als index en op die index ga je mergen."
   ]
  },
  {
   "cell_type": "code",
   "execution_count": null,
   "metadata": {
    "colab": {
     "base_uri": "https://localhost:8080/"
    },
    "id": "QbUfmLtSyPmG",
    "outputId": "9fc46335-c960-458f-eb75-7579a9443d7f"
   },
   "outputs": [],
   "source": [
    "# Staff en student gegevens, waarbij een student ook staff (=student-assistent) kan zijn\n",
    "staff_df = pd.DataFrame([{'Name': 'Kelly', 'Role': 'Director of HR'},\n",
    "                         {'Name': 'Kelly', 'Role': 'Course liasion'},\n",
    "                         {'Name': 'James', 'Role': 'Grader'}])\n",
    "\n",
    "# zorgen voor de index op Name\n",
    "staff_df = staff_df.set_index('Name')\n",
    "print(staff_df)\n",
    "\n",
    "# idem\n",
    "student_df = pd.DataFrame([{'Name': 'James', 'School': 'Business'},\n",
    "                           {'Name': 'Mike', 'School': 'Law'},\n",
    "                           {'Name': 'Kelly', 'School': 'Engineering'}])\n",
    "student_df = student_df.set_index('Name')\n",
    "print(student_df)"
   ]
  },
  {
   "cell_type": "markdown",
   "metadata": {
    "id": "i38qhsxFyn6d"
   },
   "source": [
    "Net zoals bij databases en SQL, zijn er verschillende manieren om twee DataFrames te mergen:\n",
    "- Outer (alle rijen gaan mee)\n",
    "- Inner (alleen rijen met overlap gaan mee)\n",
    "- Left (alle rijen van het eerste DataFrame plus rijen van tweede DataFrame met overlap gaan mee)\n",
    "- Right (andersom)"
   ]
  },
  {
   "cell_type": "code",
   "execution_count": null,
   "metadata": {
    "colab": {
     "base_uri": "https://localhost:8080/",
     "height": 206
    },
    "id": "n0kxsW0c9Qi-",
    "outputId": "6b6c5e46-7477-4598-f645-6a7906edbc33"
   },
   "outputs": [],
   "source": [
    "pd.merge(staff_df, student_df, how='outer', left_index=True, right_index=True)"
   ]
  },
  {
   "cell_type": "code",
   "execution_count": null,
   "metadata": {
    "colab": {
     "base_uri": "https://localhost:8080/",
     "height": 175
    },
    "id": "v6PKuuIC9Qm7",
    "outputId": "992ee674-65f1-4b66-eb8e-9aa372fb4e02"
   },
   "outputs": [],
   "source": [
    "pd.merge(staff_df, student_df, how='inner', left_index=True, right_index=True)"
   ]
  },
  {
   "cell_type": "code",
   "execution_count": null,
   "metadata": {
    "colab": {
     "base_uri": "https://localhost:8080/",
     "height": 175
    },
    "id": "-hxTHNOS9Qqb",
    "outputId": "18763959-607d-4c09-e718-612792970a8b"
   },
   "outputs": [],
   "source": [
    "pd.merge(staff_df, student_df, how='left', left_index=True, right_index=True)"
   ]
  },
  {
   "cell_type": "code",
   "execution_count": null,
   "metadata": {
    "colab": {
     "base_uri": "https://localhost:8080/",
     "height": 206
    },
    "id": "xvIuHGrD9Qsy",
    "outputId": "a2e54eb6-1cca-42cd-9714-b04bf25a13f5"
   },
   "outputs": [],
   "source": [
    "pd.merge(staff_df, student_df, how='right', left_index=True, right_index=True)"
   ]
  },
  {
   "cell_type": "code",
   "execution_count": null,
   "metadata": {
    "colab": {
     "base_uri": "https://localhost:8080/",
     "height": 143
    },
    "id": "HL2cqQru9Qvc",
    "outputId": "969ee880-aba5-4cba-d536-8cd9a3bd7431"
   },
   "outputs": [],
   "source": [
    "# merging is ook mgeljk zonder index, maar door het aangeven van de kolomnamen\n",
    "staff_df = staff_df.reset_index()\n",
    "student_df = student_df.reset_index()\n",
    "pd.merge(staff_df, student_df, how='left', left_on='Name', right_on='Name')"
   ]
  },
  {
   "cell_type": "code",
   "execution_count": null,
   "metadata": {
    "colab": {
     "base_uri": "https://localhost:8080/",
     "height": 143
    },
    "id": "TgdLQH5v9Qx3",
    "outputId": "d233cc4b-e3d9-4ed3-fa86-194917f324d8"
   },
   "outputs": [],
   "source": [
    "# Wanneer er bij het mergen 'identieke' kolommen in beide dataframes staan, dan worden de voorzien van een postfix\n",
    "staff_df = pd.DataFrame([{'Name': 'Kelly', 'Role': 'Director of HR', 'Location': 'State Street'},\n",
    "                         {'Name': 'Sally', 'Role': 'Course liasion', 'Location': 'Washington Avenue'},\n",
    "                         {'Name': 'James', 'Role': 'Grader', 'Location': 'Washington Avenue'}])\n",
    "\n",
    "student_df = pd.DataFrame([{'Name': 'James', 'School': 'Business', 'Location': '1024 Billiard Avenue'},\n",
    "                           {'Name': 'Mike', 'School': 'Law', 'Location': 'Fraternity House #22'},\n",
    "                           {'Name': 'Sally', 'School': 'Engineering', 'Location': '512 Wilson Crescent'}])\n",
    "\n",
    "pd.merge(staff_df, student_df, how='left', left_on='Name', right_on='Name')"
   ]
  },
  {
   "cell_type": "code",
   "execution_count": null,
   "metadata": {
    "colab": {
     "base_uri": "https://localhost:8080/",
     "height": 81
    },
    "id": "pMP8ykMk9Q0T",
    "outputId": "4a8688d3-7c59-41cb-ea5f-a5d325c7ce9a"
   },
   "outputs": [],
   "source": [
    "# Merging kan ook op meerdere kolommen \n",
    "staff_df = pd.DataFrame([{'First Name': 'Kelly', 'Last Name': 'Desjardins', 'Role': 'Director of HR'},\n",
    "                         {'First Name': 'Sally', 'Last Name': 'Brooks', 'Role': 'Course liasion'},\n",
    "                         {'First Name': 'James', 'Last Name': 'Wilde', 'Role': 'Grader'}])\n",
    "student_df = pd.DataFrame([{'First Name': 'James', 'Last Name': 'Hammond', 'School': 'Business'},\n",
    "                           {'First Name': 'Mike', 'Last Name': 'Smith', 'School': 'Law'},\n",
    "                           {'First Name': 'Sally', 'Last Name': 'Brooks', 'School': 'Engineering'}])\n",
    "pd.merge(staff_df, student_df, how='inner', left_on=['First Name','Last Name'], right_on=['First Name','Last Name'])"
   ]
  },
  {
   "cell_type": "markdown",
   "metadata": {
    "id": "0ufgMEBQ-jlL"
   },
   "source": [
    "<a id=\"pandas_vb4\"></a>\n",
    "## Voorbeeld 4 Complexere acties\n",
    "\n",
    "In dit laatste voorbeeld gaan we aan de slag met een aantal complexere acties.\n",
    "\n",
    "***Bronvermelding***\n",
    "Dit notebook komt van de Coursera cursus \n",
    "Introduction to Data Science in Python - week 2\n",
    "University of Michigan."
   ]
  },
  {
   "cell_type": "code",
   "execution_count": null,
   "metadata": {},
   "outputs": [],
   "source": []
  },
  {
   "cell_type": "code",
   "execution_count": null,
   "metadata": {
    "id": "Udv8qkTo-WUv"
   },
   "outputs": [],
   "source": [
    "import numpy as np\n",
    "import pandas as pd"
   ]
  },
  {
   "cell_type": "code",
   "execution_count": null,
   "metadata": {
    "colab": {
     "base_uri": "https://localhost:8080/",
     "height": 369
    },
    "id": "IoAJXh_9__E0",
    "outputId": "3ffedf9a-1677-45ca-c13f-9e7865f168a0"
   },
   "outputs": [],
   "source": [
    "# inlezen van bevolkingsgegevens van de USA\n",
    "dfcs = pd.read_csv('pandas_census.csv')\n",
    "dfcs.head()"
   ]
  },
  {
   "cell_type": "markdown",
   "metadata": {
    "id": "_MTitTAJFYLv"
   },
   "source": [
    "### Krachtige functieverwerking op dataframe rij \n",
    "\n",
    "Soms kan het voorkomen dat je een analyse wilt uitvoeren waarvoor geen standaardfunctie is. In dat geval kun je een eigen functie schrijven en deze gebruiken voor het DataFrame met behulp van de de `apply` functie.\n",
    "\n",
    "####Samenhang apply en eigen functies\n",
    "De `apply` functie *itereert* over alle rijen of kolommen van een DataFrame. Elke rij of kolom wordt als input gegeven aan de eigen functie die aangeroepen wordt.\n",
    "\n",
    "####Werking min_max-functie\n",
    "In het voorbeeld hieronder is er een `min_max` functie geschreven die telkens een *row*  uit het DataFrame als input krijgt. Deze functie zet de waardes van 6 kolommen in een array en retourneert de laagste en hoogste waarde."
   ]
  },
  {
   "cell_type": "code",
   "execution_count": null,
   "metadata": {
    "id": "qOQvunB-5Ms8"
   },
   "outputs": [],
   "source": [
    "# definitie van een python functie die een minimale en maximale waarde van het bevolkingsaantal bepaalt\n",
    "def min_max(row):\n",
    "    data = row[['POPESTIMATE2010',\n",
    "                'POPESTIMATE2011',\n",
    "                'POPESTIMATE2012',\n",
    "                'POPESTIMATE2013',\n",
    "                'POPESTIMATE2014',\n",
    "                'POPESTIMATE2015']]\n",
    "    return pd.Series({'min': np.min(data), 'max': np.max(data)})"
   ]
  },
  {
   "cell_type": "markdown",
   "metadata": {
    "id": "A5JHhXVT6riM"
   },
   "source": [
    "####Werking apply-functie\n",
    "De `apply` functie itereert in dit geval over alle rijen (omdat `axis` = 1), roept de `min_max` functie aan en slaat alle resultaten op in een nieuw DataFrame. Dit DataFrame kun je natuurlijk makkelijk toevoegen aan het bestaande DataFrame."
   ]
  },
  {
   "cell_type": "code",
   "execution_count": null,
   "metadata": {
    "colab": {
     "base_uri": "https://localhost:8080/",
     "height": 206
    },
    "id": "lDTXG5865Spk",
    "outputId": "54a58e92-2905-4c69-c85a-28fc214d9161"
   },
   "outputs": [],
   "source": [
    "# de gedefinieerde functie op elke rij van de dataset uit laten voeren\n",
    "dfcsmm = dfcs.apply(min_max, axis=1)\n",
    "dfcsmm.head()"
   ]
  },
  {
   "cell_type": "markdown",
   "metadata": {
    "id": "z9fKi1F58gHn"
   },
   "source": [
    "Je kunt ook meteen een extra kolom laten toevoegen in het DataFrame."
   ]
  },
  {
   "cell_type": "code",
   "execution_count": null,
   "metadata": {
    "colab": {
     "base_uri": "https://localhost:8080/",
     "height": 369
    },
    "id": "X7pLoE078ZCP",
    "outputId": "d0478f26-99dc-4c63-a9c9-b78e630d53e2"
   },
   "outputs": [],
   "source": [
    "# definitie van een functie die 2 kolommen toevoegt aan de oorspronkelijke rijen\n",
    "def min_max_2(row):\n",
    "    data = row[['POPESTIMATE2010',\n",
    "                'POPESTIMATE2011',\n",
    "                'POPESTIMATE2012',\n",
    "                'POPESTIMATE2013',\n",
    "                'POPESTIMATE2014',\n",
    "                'POPESTIMATE2015']]\n",
    "    row['POPESTIMATEMAX'] = np.max(data)  # extra column\n",
    "    row['POPESTIMATEMIN'] = np.min(data)  # extra column\n",
    "    return row\n",
    "    \n",
    "dfcsmm2 = dfcs.apply(min_max_2, axis=1)\n",
    "dfcsmm2.head()"
   ]
  },
  {
   "cell_type": "markdown",
   "metadata": {
    "id": "_-si_0PMAoS9"
   },
   "source": [
    "### Group by\n",
    "\n",
    "Group by biedt krachtige verwerkingen om een grote verzameling gegevens per groep te analyseren. Dit is een beetje vergelijkbaar met de SQL GROUP BY functionaliteit.\n",
    "\n",
    "We gebruiken een dataset demografische gegevens van steden in de Verenigde Staten. We kunnen de data groeperen of stad of staat en binnen die groepen zaken zoals geboortecijfers analyseren."
   ]
  },
  {
   "cell_type": "markdown",
   "metadata": {
    "id": "XTMsyCpOBvBS"
   },
   "source": [
    "De eerste analyse is het bepalen van het gemiddeld aantal geboren kinderen per staat.\n",
    "\n",
    "Daarvoor moet je een aantal acties uitvoeren:\n",
    "- Alle rijen groeperen op de staat, de kolom `STNAME`. Dat doe je met de `groupby` functie. Deze krijgt de kolom als input. Omdat het een functie is krijg je `dfcs.groupby('STNAME')`. Het resultaat is een soort DataFrame: een groupby object.\n",
    "- Daarna moet je aangeven voor welke kolom je een analyse wilt toepassen, dus je plakt `['BIRTHS2015']` erachter. Je hebt nu dus één kolom gekozen van het groupby object.\n",
    "- Tenslotte volgt de `agg` functie die een berekening doet op het groupby object dat je gemaakt hebt. De input voor de functie is een bepaalde berekening, in dit geval is dat `mean`."
   ]
  },
  {
   "cell_type": "code",
   "execution_count": null,
   "metadata": {
    "id": "EYo6qiTlBCGD"
   },
   "outputs": [],
   "source": [
    "# Het bepalen van het gemiddeld aantal geboren kinderen per staat van alle steden in de staat\n",
    "dfcs.groupby('STNAME')['BIRTHS2015'].agg(['mean']).head()"
   ]
  },
  {
   "cell_type": "code",
   "execution_count": null,
   "metadata": {
    "id": "_elFcgkuBCIq"
   },
   "outputs": [],
   "source": [
    "# Op dezelfde manier kun je de standaarddeviatie bepalen\n",
    "dfcs.groupby('STNAME')['BIRTHS2015'].agg(['std']).head()"
   ]
  },
  {
   "cell_type": "code",
   "execution_count": null,
   "metadata": {
    "id": "679nCCPEBCLp"
   },
   "outputs": [],
   "source": [
    "# Ook meerdere berekeningen kunnen gezamenlijk uitgevoerd worden\n",
    "dfcs.groupby('STNAME')['BIRTHS2015'].agg(['mean','sum','min','max']).head()"
   ]
  },
  {
   "cell_type": "code",
   "execution_count": null,
   "metadata": {
    "colab": {
     "base_uri": "https://localhost:8080/",
     "height": 455
    },
    "id": "yHNsUfhJBCOO",
    "outputId": "cf058af3-89cf-4a36-f1ac-97f046869070"
   },
   "outputs": [],
   "source": [
    "# Kan ook op meerdere kolommmen\n",
    "(dfcs.groupby(level=0)[['POPESTIMATE2010','POPESTIMATE2011']].agg(['mean','sum'])).head()\n",
    "# (Hier wordt de index met behulp van een level aangeduidt: level 0 is 'STNAME')"
   ]
  },
  {
   "cell_type": "code",
   "execution_count": null,
   "metadata": {
    "colab": {
     "base_uri": "https://localhost:8080/",
     "height": 200
    },
    "id": "tpBHxQEqBCRH",
    "outputId": "d1764fd7-2f98-4bbd-8c46-46a5c48cb4e0"
   },
   "outputs": [],
   "source": [
    "# Nog ingewikkelder: de berekening per kolom verschilt:\n",
    "(dfcs.groupby(level=0)[['POPESTIMATE2010','POPESTIMATE2011']]\n",
    "    .agg({'POPESTIMATE2010': np.average, 'POPESTIMATE2011': np.sum})).head()"
   ]
  },
  {
   "cell_type": "markdown",
   "metadata": {
    "id": "-ueXfaD2-yhr"
   },
   "source": [
    "### Date Functionality in Pandas\n",
    "\n",
    "Een veelvoorkomend en complexe datatype is dat van datum en tijd. De complexiteit zit 'm in het feit dat er verschillende noteringen zijn en dat elke implementatie wel een uitzonderling lijkt te zijn. Enfin, vaak veel gedoe.\n",
    "\n",
    "Pandas heeft de volgende datastructuren voor datum en tijd functionaliteiten\n",
    "- Timestamp: weergave van een datum-tijd punt\n",
    "- Period: verzameling van datums of tijd van een bepaald type: bijv. Dagen, Minuten, Nanoseconden\n",
    "- TimeDelta: weergave van de tijdsduur tussen 2 datum-tijd waarden"
   ]
  },
  {
   "cell_type": "markdown",
   "metadata": {
    "id": "hclaQH9K_R_x"
   },
   "source": [
    "### Timestamp"
   ]
  },
  {
   "cell_type": "code",
   "execution_count": null,
   "metadata": {
    "colab": {
     "base_uri": "https://localhost:8080/"
    },
    "id": "u2DDbfCB_HHs",
    "outputId": "8c936625-e0e0-4803-bb57-ccdb02ef3f52"
   },
   "outputs": [],
   "source": [
    "# Vormen van een timestamp (datum en tijd punt) uit een tekst.\n",
    "pd.Timestamp('9/1/2016 10:05AM')"
   ]
  },
  {
   "cell_type": "code",
   "execution_count": null,
   "metadata": {
    "colab": {
     "base_uri": "https://localhost:8080/"
    },
    "id": "Gl_pUVEw_N0j",
    "outputId": "c431d818-913c-4746-d114-3ff3b46da453"
   },
   "outputs": [],
   "source": [
    "# aanmaken van een reeks van timestamps uren \n",
    "pd.date_range('2016-01-09 00:00:00', periods = 6, freq = 'H')"
   ]
  },
  {
   "cell_type": "markdown",
   "metadata": {
    "id": "fQzyBkyL_WBj"
   },
   "source": [
    "### Period"
   ]
  },
  {
   "cell_type": "code",
   "execution_count": null,
   "metadata": {
    "colab": {
     "base_uri": "https://localhost:8080/"
    },
    "id": "WdqPks2l_N3D",
    "outputId": "ff13bf19-85c7-4085-de1d-d962dbc01910"
   },
   "outputs": [],
   "source": [
    "# aanmaken van een periode van het type Maand\n",
    "pd.Period('1/2016')"
   ]
  },
  {
   "cell_type": "code",
   "execution_count": null,
   "metadata": {
    "colab": {
     "base_uri": "https://localhost:8080/"
    },
    "id": "9OwWni-f_N50",
    "outputId": "4374d43d-5e6a-4eac-fa7f-16be2ac6a18b"
   },
   "outputs": [],
   "source": [
    "pd.Period('3/5/2016')"
   ]
  },
  {
   "cell_type": "markdown",
   "metadata": {
    "id": "MdB8ybvT_1xt"
   },
   "source": [
    "### TimeDelta"
   ]
  },
  {
   "cell_type": "code",
   "execution_count": null,
   "metadata": {
    "colab": {
     "base_uri": "https://localhost:8080/"
    },
    "id": "GpCPc8sf_N8a",
    "outputId": "9ad64e29-16a2-4c9f-c924-bab8f05879b8"
   },
   "outputs": [],
   "source": [
    "# Berekenen van de tijdsduur tussen 2 datums (Amerikaanse notatie !) \n",
    "pd.Timestamp('9/3/2016')-pd.Timestamp('9/1/2016')"
   ]
  }
 ],
 "metadata": {
  "colab": {
   "collapsed_sections": [],
   "name": "CM3 Pandas - voorbeeld 1 NIEUW",
   "provenance": []
  },
  "kernelspec": {
   "display_name": "Python 3 (ipykernel)",
   "language": "python",
   "name": "python3"
  },
  "language_info": {
   "codemirror_mode": {
    "name": "ipython",
    "version": 3
   },
   "file_extension": ".py",
   "mimetype": "text/x-python",
   "name": "python",
   "nbconvert_exporter": "python",
   "pygments_lexer": "ipython3",
   "version": "3.8.2"
  }
 },
 "nbformat": 4,
 "nbformat_minor": 4
}
