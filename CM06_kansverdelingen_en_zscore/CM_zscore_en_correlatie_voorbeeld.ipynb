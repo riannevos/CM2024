{
 "cells": [
  {
   "cell_type": "markdown",
   "metadata": {},
   "source": [
    "# Z-score en correlatie - voorbeeld\n",
    "Hogeschool Utrecht (c) 2020\n",
    "\n",
    "Tijmen Muller (tijmen.muller@hu.nl) en nabewerking Josot Vanstreels (joost.vanstreels@hu.nl)"
   ]
  },
  {
   "cell_type": "code",
   "execution_count": null,
   "metadata": {},
   "outputs": [],
   "source": [
    "import numpy as np\n",
    "import pandas as pd\n",
    "import matplotlib.pyplot as plt\n",
    "import seaborn as sns"
   ]
  },
  {
   "cell_type": "markdown",
   "metadata": {},
   "source": [
    "## Data inlezen en analyseren"
   ]
  },
  {
   "cell_type": "code",
   "execution_count": null,
   "metadata": {},
   "outputs": [],
   "source": [
    "# inlezen tabel met fruit gegevens\n",
    "fruits = pd.read_table('knn_fruit.txt')\n",
    "print('Aantal meetwaarden {0:d}'.format(len(fruits)))\n",
    "fruits.head()"
   ]
  },
  {
   "cell_type": "markdown",
   "metadata": {},
   "source": [
    "De kolommen zijn als volgt:\n",
    "* `fruit_label` is een identificatienummer, overeenkomend met `fruit_name`\n",
    "* `fruit_name` is het fruittype\n",
    "* `fruit_subtype` is het subtype (bijvoorbeeld het soort appel)\n",
    "* `mass` is het gewicht in grammen\n",
    "* `width` is de breedte in cm\n",
    "* `height` is de hoogte in cm\n",
    "* `color_score` is een waarde uit het kleuren spectrum:\n",
    "  * groen: 0.45-0.65\n",
    "  * geel: 0.65-0.75\n",
    "  * oranje: 0.75-0.85\n",
    "  * rood: 0.85-1.00"
   ]
  },
  {
   "cell_type": "markdown",
   "metadata": {},
   "source": [
    "De features van het fruit zijn de `mass`, `width`, `heigth` en `color_score`. Dit zijn allemaal continue waarden.\n",
    "De waardes zijn heel verschillend wanneer je de centrum- en spreidingsmaten bekijkt.\n",
    "De mass heeft veel hogere waardes dan de width en height, die ongeveer hetzelfde eruit zien.\n",
    "En de waardes van color_score zijn nog veel lager."
   ]
  },
  {
   "cell_type": "code",
   "execution_count": null,
   "metadata": {},
   "outputs": [],
   "source": [
    "fruits.describe()"
   ]
  },
  {
   "cell_type": "markdown",
   "metadata": {},
   "source": [
    "De boxplots van de features laten ook zien dat de spreidingen zeer divers zijn en voor problemen kunnen zorgen wanneer we gaan werken met afstandsmaten."
   ]
  },
  {
   "cell_type": "code",
   "execution_count": null,
   "metadata": {},
   "outputs": [],
   "source": [
    "boxplot = fruits.boxplot(column=['mass','width','height', 'color_score'])"
   ]
  },
  {
   "cell_type": "markdown",
   "metadata": {},
   "source": [
    "## Normaliseren"
   ]
  },
  {
   "cell_type": "markdown",
   "metadata": {},
   "source": [
    "We gaan daarom de features normaliseren. Dat doen we door handmatig de Z-score te berekenen.\n",
    "De Z-score kon je berekenen met: \n",
    "- (waarde van item i in kolom x - gemiddelde waarde kolom x) / standaard deviatie kolom x\n",
    "\n",
    "en dat uiteraard voor alle items i.\n",
    "\n",
    "**Belangrijk**: je wilt die genormaliseerde gegevens later gebruiken, dus je slaat ze op in nieuwe kolommen"
   ]
  },
  {
   "cell_type": "code",
   "execution_count": null,
   "metadata": {},
   "outputs": [],
   "source": [
    "fruits['mass_norm'] = (fruits['mass']-fruits['mass'].mean())/fruits['mass'].std()\n",
    "fruits['width_norm'] = (fruits['width']-fruits['width'].mean())/fruits['width'].std()\n",
    "fruits['height_norm'] = (fruits['height']-fruits['height'].mean())/fruits['height'].std()\n",
    "fruits['color_score_norm'] = (fruits['color_score']-fruits['color_score'].mean())/fruits['color_score'].std()\n",
    "fruits.head(5)"
   ]
  },
  {
   "cell_type": "markdown",
   "metadata": {},
   "source": [
    "Je ziet nu dat de gemiddeldes van de nieuwe kolommen nagenoeg hetzelfde zijn en conform de verwachtingen: gemiddelde = 0 en standaard deviatie = 1"
   ]
  },
  {
   "cell_type": "code",
   "execution_count": null,
   "metadata": {},
   "outputs": [],
   "source": [
    "fruits[['mass_norm', 'width_norm', 'height_norm', 'color_score_norm']].round(2).describe()"
   ]
  },
  {
   "cell_type": "markdown",
   "metadata": {},
   "source": [
    "De boxplots van de features tonen aan dat de spreidingen nu wel vergelijkbaar zijn.\n",
    "Ze zijn niet hetzelfde, maar dat hoeft natuurlijk ook niet: het blijven verschillende waardes.\n"
   ]
  },
  {
   "cell_type": "code",
   "execution_count": null,
   "metadata": {
    "scrolled": true
   },
   "outputs": [],
   "source": [
    "boxplot = fruits.boxplot(column=['mass_norm','width_norm','height_norm', 'color_score_norm'])"
   ]
  },
  {
   "cell_type": "markdown",
   "metadata": {},
   "source": [
    "## Correlatie"
   ]
  },
  {
   "cell_type": "markdown",
   "metadata": {},
   "source": [
    "Met behulp van de pairplot van Seaborn kun je heel eenvoudig scatter plots van verschillende kolommen maken\n",
    "Hiermee kun je zelf al inschatten of er sprake is van correlatie tussen de verschillende kolommen\n"
   ]
  },
  {
   "cell_type": "code",
   "execution_count": null,
   "metadata": {},
   "outputs": [],
   "source": [
    "sns.pairplot(fruits[['mass_norm','width_norm','height_norm', 'color_score_norm']])"
   ]
  },
  {
   "cell_type": "markdown",
   "metadata": {},
   "source": [
    "Met oude versies van Matplotlib en Seaborn kon je het Pearson coëfficient in de pairplot weergeven, maar dat lukt (mij in ieder geval...) nu niet meer...\n",
    "De correlatiematrix is een makkelijke manier om de verschillende coëfficienten weer te geven.\n",
    "\n",
    "Merk op: je kan hier ook de originele waardes gebruiken, Pearson zet waardes eerst om naar een Z-score.\n"
   ]
  },
  {
   "cell_type": "code",
   "execution_count": null,
   "metadata": {},
   "outputs": [],
   "source": [
    "corrMatrix = fruits[['mass_norm','width_norm','height_norm', 'color_score_norm']].corr()\n",
    "corrMatrix"
   ]
  },
  {
   "cell_type": "markdown",
   "metadata": {},
   "source": [
    "Aangezien wij visueel ingesteld zijn, kunnen we deze waardes beter weergeven in een heatmap.\n",
    "Hierin kun je sneller zien welke kolommen goed en niet goed correleren"
   ]
  },
  {
   "cell_type": "code",
   "execution_count": null,
   "metadata": {},
   "outputs": [],
   "source": [
    "sns.heatmap(corrMatrix, annot=True)"
   ]
  },
  {
   "cell_type": "code",
   "execution_count": null,
   "metadata": {},
   "outputs": [],
   "source": []
  }
 ],
 "metadata": {
  "kernelspec": {
   "display_name": "Python 3 (ipykernel)",
   "language": "python",
   "name": "python3"
  },
  "language_info": {
   "codemirror_mode": {
    "name": "ipython",
    "version": 3
   },
   "file_extension": ".py",
   "mimetype": "text/x-python",
   "name": "python",
   "nbconvert_exporter": "python",
   "pygments_lexer": "ipython3",
   "version": "3.8.2"
  }
 },
 "nbformat": 4,
 "nbformat_minor": 4
}
