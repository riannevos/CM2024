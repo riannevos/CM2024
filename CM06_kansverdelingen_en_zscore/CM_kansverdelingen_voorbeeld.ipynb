{
 "cells": [
  {
   "cell_type": "markdown",
   "metadata": {},
   "source": [
    "# Kansverdelingen - voorbeeld"
   ]
  },
  {
   "cell_type": "code",
   "execution_count": null,
   "metadata": {},
   "outputs": [],
   "source": [
    "import numpy as np\n",
    "import matplotlib.pyplot as plt\n",
    "import matplotlib.pylab as pylab\n",
    "import scipy.stats as stats\n",
    "\n",
    "params = {'axes.labelsize': 'xx-large',\n",
    "          'xtick.labelsize': 'xx-large',\n",
    "          'ytick.labelsize': 'xx-large'}\n",
    " \n",
    "pylab.rcParams.update(params)\n",
    "\n",
    "fsize, fdpi = (11,6), 150\n",
    "imgdir = \"../pic/\""
   ]
  },
  {
   "cell_type": "markdown",
   "metadata": {},
   "source": [
    "## Discrete verdeling"
   ]
  },
  {
   "cell_type": "code",
   "execution_count": null,
   "metadata": {},
   "outputs": [],
   "source": [
    "S = np.array([8, 5, 6, 3, 6, 4, 3, 2, 7, 29, 7, 9, 2, 3, 5, 2])"
   ]
  },
  {
   "cell_type": "code",
   "execution_count": null,
   "metadata": {},
   "outputs": [],
   "source": [
    "fig, ax = plt.subplots(figsize=fsize, dpi=fdpi)\n",
    "plt.hist(S, bins=(max(S)-min(S)), rwidth=.7, align='left')\n",
    "\n",
    "plt.xlabel(\"Meetwaarde\")\n",
    "plt.xticks([2,4,6,8,10,12,14,16,18,20,22,24,26,28])\n",
    "\n",
    "plt.ylabel(\"Frequentie\")\n",
    "ytick_list = np.array([1,2,3])\n",
    "plt.yticks(ytick_list)\n",
    "\n",
    "fig.suptitle(\"Histogram\", fontsize=28)\n",
    "\n",
    "plt.savefig(imgdir + \"discrete_verdeling.png\")\n",
    "plt.show()"
   ]
  },
  {
   "cell_type": "code",
   "execution_count": null,
   "metadata": {},
   "outputs": [],
   "source": [
    "fig, ax = plt.subplots(figsize=fsize, dpi=fdpi)\n",
    "plt.hist(S, bins=(max(S)-min(S)), rwidth=.7, align='left')\n",
    "\n",
    "plt.xlabel(\"Meetwaarde\")\n",
    "plt.xticks(np.array([2,4,6,8,10,12,14,16,18,20,22,24,26,28]))\n",
    "\n",
    "plt.ylabel(\"Relatieve frequentie\")\n",
    "ytick_list = np.array([1,2,3])\n",
    "ytick_list_freq = (ytick_list/len(S)*100).astype(str) + np.char.array(['%','%','%'])\n",
    "plt.yticks(ytick_list, ytick_list_freq)\n",
    "\n",
    "fig.suptitle(\"Histogram\", fontsize=28)\n",
    "\n",
    "plt.savefig(imgdir + \"frequentie_verdeling.png\")\n",
    "plt.show()"
   ]
  },
  {
   "cell_type": "markdown",
   "metadata": {},
   "source": [
    "## Normaalverdeling"
   ]
  },
  {
   "cell_type": "code",
   "execution_count": null,
   "metadata": {},
   "outputs": [],
   "source": [
    "# Schets de verdeling \n",
    "mu, sigma = 0, 1\n",
    "\n",
    "# grafiekgebied\n",
    "x = np.linspace(-3.5*sigma, 3.5*sigma, 1000)\n",
    "nv = stats.norm(loc=mu, scale=sigma)   \n",
    "y = nv.pdf(x)\n",
    "\n",
    "fig = plt.figure(figsize=fsize, dpi=fdpi)\n",
    "ax = fig.gca()\n",
    "plt.plot(x,y, linewidth=3)\n",
    "\n",
    "\n",
    "# Assen aanpassen\n",
    "ax.spines[\"top\"].set_visible(False)\n",
    "ax.spines[\"right\"].set_visible(False)\n",
    "ax.spines[\"left\"].set_visible(False)\n",
    "ax.spines['bottom'].set_position('zero') \n",
    "ax.get_yaxis().set_visible(False)\n",
    "\n",
    "ax.set_xticks([-3*sigma, -2*sigma, -sigma, mu, sigma, 2*sigma, 3*sigma])\n",
    "ax.set_xticklabels([\"$-3\\sigma$\", \"$-2\\sigma$\", \"$-\\sigma$\", \"$\\mu$\", \"$+\\sigma$\", \"$+2\\sigma$\", \"$+3\\sigma$\"])\n",
    "plt.yticks([])\n",
    "plt.grid()\n",
    "\n",
    "plt.savefig(imgdir + \"normaalverdeling.png\")"
   ]
  },
  {
   "cell_type": "markdown",
   "metadata": {},
   "source": [
    "## Standaardnormaalverdeling\n",
    "\n",
    "De standaardnormaalverdeling heeft gemiddelde $mu = 0$ en standaardafwijking $sigma = 1$."
   ]
  },
  {
   "cell_type": "code",
   "execution_count": null,
   "metadata": {},
   "outputs": [],
   "source": [
    "# Formule van de verdeling\n",
    "mu, sigma = 0, 1\n",
    "nv = stats.norm(loc=mu, scale=sigma)\n",
    "\n",
    "x = np.linspace(mu-3.5*sigma, mu+3.5*sigma, 100)\n",
    "y = nv.pdf(x)\n",
    "\n",
    "# Creeer figuur\n",
    "fig, ax = plt.subplots(figsize=fsize, dpi=fdpi)\n",
    "ax.set_ylim(-.4*nv.pdf(mu), 1.1*nv.pdf(mu))\n",
    "\n",
    "# Waarden op x-as plaatsen \n",
    "ax.set_xticks(np.arange(mu-3*sigma, mu+4*sigma, sigma))\n",
    "\n",
    "# Assen aanpassen\n",
    "ax.spines[\"top\"].set_visible(False)\n",
    "ax.spines[\"right\"].set_visible(False)\n",
    "ax.spines[\"left\"].set_visible(False)\n",
    "ax.spines['bottom'].set_position('zero') \n",
    "ax.get_yaxis().set_visible(False)\n",
    "\n",
    "# Grid toevoegen\n",
    "ax.grid()\n",
    "\n",
    "# Titel toevoegen\n",
    "fig.suptitle(\"Standaardnormaalverdeling ($\\mu = \" + str(mu) + \"$ en $\\sigma = \" + str(sigma) + \"$)\", fontsize=28)\n",
    "\n",
    "ax.plot(x, y, linewidth=3)\n",
    "\n",
    "# Opslaan in bestand\n",
    "plt.savefig(imgdir + \"normaalverdeling_standaard.png\")"
   ]
  },
  {
   "cell_type": "code",
   "execution_count": null,
   "metadata": {},
   "outputs": [],
   "source": [
    "perc = 90\n",
    "lgrens_perc = (1-perc/100)/2\n",
    "lgrens = round(nv.ppf(lgrens_perc), 2)\n",
    "rgrens_perc = 1-(1-perc/100)/2\n",
    "rgrens = round(nv.ppf(rgrens_perc), 2)\n",
    "#print(str(perc) + \"% van de waardes ligt tussen de \" + str(lgrens) + \" en de \" + str(rgrens) + \" standaardafwijkingen\")\n",
    "\n",
    "# Schets de verdeling \n",
    "mu, sigma = 0, 1\n",
    "\n",
    "# grafiekgebied\n",
    "x = np.linspace(-3.5*sigma, 3.5*sigma, 1000)\n",
    "nv = stats.norm(loc=mu, scale=sigma)   \n",
    "y = nv.pdf(x)\n",
    "\n",
    "fig = plt.figure(figsize=fsize, dpi=fdpi)\n",
    "ax = fig.gca()\n",
    "plt.plot(x,y, linewidth=3)\n",
    "\n",
    "plt.fill_between(x, y, where=(y > nv.pdf(nv.ppf(lgrens_perc))))\n",
    "\n",
    "\n",
    "# Assen aanpassen\n",
    "ax.spines[\"top\"].set_visible(False)\n",
    "ax.spines[\"right\"].set_visible(False)\n",
    "ax.spines[\"left\"].set_visible(False)\n",
    "ax.spines['bottom'].set_position('zero') \n",
    "ax.get_yaxis().set_visible(False)\n",
    "\n",
    "ax.set_xticks([lgrens*sigma, rgrens*sigma])\n",
    "ax.set_xticklabels([\"$a$\", \"$b$\"])\n",
    "plt.yticks([])\n",
    "plt.grid()\n",
    "ax.text(0, 0.15,\"$P(a < X < b)$\", fontsize=32, color='white', horizontalalignment='center', verticalalignment='center')\n",
    "\n",
    "plt.savefig(imgdir + \"normaalverdeling_kans.png\")\n"
   ]
  },
  {
   "cell_type": "code",
   "execution_count": null,
   "metadata": {},
   "outputs": [],
   "source": [
    "perc = 95\n",
    "lgrens_perc = (1-perc/100)/2\n",
    "lgrens = round(nv.ppf(lgrens_perc), 2)\n",
    "rgrens_perc = 1-(1-perc/100)/2\n",
    "rgrens = round(nv.ppf(rgrens_perc), 2)\n",
    "#print(str(perc) + \"% van de waardes ligt tussen de \" + str(lgrens) + \" en de \" + str(rgrens) + \" standaardafwijkingen\")\n",
    "\n",
    "# Schets de verdeling \n",
    "mu, sigma = 0, 1\n",
    "\n",
    "# grafiekgebied\n",
    "x = np.linspace(-3.5*sigma, 3.5*sigma, 1000)\n",
    "nv = stats.norm(loc=mu, scale=sigma)   \n",
    "y = nv.pdf(x)\n",
    "\n",
    "fig = plt.figure(figsize=fsize, dpi=fdpi)\n",
    "ax = fig.gca()\n",
    "plt.plot(x,y, linewidth=3)\n",
    "\n",
    "plt.fill_between(x, y, where=(y > nv.pdf(nv.ppf(lgrens_perc))))\n",
    "\n",
    "\n",
    "# Assen aanpassen\n",
    "ax.spines[\"top\"].set_visible(False)\n",
    "ax.spines[\"right\"].set_visible(False)\n",
    "ax.spines[\"left\"].set_visible(False)\n",
    "ax.spines['bottom'].set_position('zero') \n",
    "ax.get_yaxis().set_visible(False)\n",
    "\n",
    "ax.set_xticks([-3*sigma, -2*sigma, lgrens*sigma, -sigma, mu, sigma, rgrens*sigma, 2*sigma, 3*sigma])\n",
    "ax.set_xticklabels([\"$-3\\sigma$\", \"$-2\\sigma$\", \"\\n\" + str(lgrens) + \"$\\sigma$\", \"$-\\sigma$\", \"$\\mu$\", \"$+\\sigma$\", \"\\n+\" + str(rgrens) + \"$\\sigma$\", \"$+2\\sigma$\", \"$+3\\sigma$\"])\n",
    "plt.yticks([])\n",
    "plt.grid()\n",
    "ax.text(0, 0.15, str(perc)+\"%\", fontsize=32, color='white', horizontalalignment='center', verticalalignment='center')\n",
    "fig.suptitle(str(perc) + \"% van de waardes ligt tussen \" + str(lgrens) + \"$\\sigma$ en +\" + str(rgrens) + \"$\\sigma$\", fontsize=28)\n",
    "\n",
    "plt.savefig(imgdir + \"normaalverdeling_\" + str(perc) + \".png\")\n"
   ]
  },
  {
   "cell_type": "code",
   "execution_count": null,
   "metadata": {},
   "outputs": [],
   "source": [
    "nv.ppf(.95)"
   ]
  },
  {
   "cell_type": "code",
   "execution_count": null,
   "metadata": {},
   "outputs": [],
   "source": [
    "perc = 95\n",
    "rgrens = round(nv.ppf(perc/100), 2)\n",
    "#print(str(perc) + \"% van de waardes ligt tussen de \" + str(lgrens) + \" en de \" + str(rgrens) + \" standaardafwijkingen\")\n",
    "\n",
    "# Schets de verdeling \n",
    "mu, sigma = 0, 1\n",
    "\n",
    "# grafiekgebied\n",
    "x = np.linspace(-3.5*sigma, 3.5*sigma, 1000)\n",
    "nv = stats.norm(loc=mu, scale=sigma)   \n",
    "y = nv.pdf(x)\n",
    "\n",
    "fig = plt.figure(figsize=fsize, dpi=fdpi)\n",
    "ax = fig.gca()\n",
    "plt.plot(x,y, linewidth=3)\n",
    "\n",
    "plt.fill_between(x, y, where=(x < nv.ppf(perc/100)))\n",
    "\n",
    "\n",
    "# Assen aanpassen\n",
    "ax.spines[\"top\"].set_visible(False)\n",
    "ax.spines[\"right\"].set_visible(False)\n",
    "ax.spines[\"left\"].set_visible(False)\n",
    "ax.spines['bottom'].set_position('zero') \n",
    "ax.get_yaxis().set_visible(False)\n",
    "\n",
    "ax.set_xticks([-3*sigma, -2*sigma, -sigma, mu, sigma, rgrens*sigma, 2*sigma, 3*sigma])\n",
    "ax.set_xticklabels([\"$-3\\sigma$\", \"$-2\\sigma$\", \"$-\\sigma$\", \"$\\mu$\", \"$+\\sigma$\", \"\\n+\" + str(rgrens) + \"$\\sigma$\", \"$+2\\sigma$\", \"$+3\\sigma$\"])\n",
    "plt.yticks([])\n",
    "plt.grid()\n",
    "ax.text(0, 0.15, str(perc)+\"%\", fontsize=32, color='white', horizontalalignment='center', verticalalignment='center')\n",
    "fig.suptitle(str(perc) + \"% van de waardes ligt links van +\" + str(rgrens) + \"$\\sigma$\", fontsize=28)\n",
    "\n",
    "plt.savefig(imgdir + \"normaalverdeling_rzijdig_\" + str(perc) + \".png\")\n"
   ]
  },
  {
   "cell_type": "markdown",
   "metadata": {},
   "source": [
    "## Formules voor normaalverdeling"
   ]
  },
  {
   "cell_type": "code",
   "execution_count": null,
   "metadata": {},
   "outputs": [],
   "source": [
    "# gemiddelde en standaarddeviatie\n",
    "mu, sigma = 100, 15\n",
    "\n",
    "# 100.000 meetwaarden, normaal verdeeld \n",
    "y = mu + sigma * np.random.randn(100000)\n",
    "\n",
    "# omzetten naar een verdeling van 50 'bins'\n",
    "hist, bins = np.histogram(y, bins=50)\n",
    "width = 0.9 * (bins[1] - bins[0])\n",
    "center = (bins[:-1] + bins[1:]) / 2\n",
    "\n",
    "# opbouwen grafiek\n",
    "plt.figure(figsize=(12,6), dpi=80)\n",
    "\n",
    "plt.bar(center, hist, align='center', width=width)\n",
    "plt.show()"
   ]
  },
  {
   "cell_type": "code",
   "execution_count": null,
   "metadata": {},
   "outputs": [],
   "source": [
    "# Normale verdeling - wiskundige formule\n",
    "\n",
    "# gemiddelde en standaarddeviatie\n",
    "mu, sigma = 100, 15\n",
    "x = np.linspace(40,160,100)\n",
    "\n",
    "# wiskundige formule\n",
    "y = np.exp( (-1*(x-mu)**2)/(2*sigma**2))/(sigma*np.sqrt(2*np.pi))\n",
    "\n",
    "plt.figure(figsize=(12,6), dpi=80)\n",
    "plt.plot(x,y,linewidth=3)\n",
    "plt.show()"
   ]
  },
  {
   "cell_type": "code",
   "execution_count": null,
   "metadata": {},
   "outputs": [],
   "source": [
    "# Normale verdeling - scipy.stats functies\n",
    "\n",
    "# gemiddelde en standaarddeviatie\n",
    "mu, sigma = 100, 15\n",
    "x = np.linspace(40,160,100)\n",
    "\n",
    "# scipy.stats functies\n",
    "nv = stats.norm(loc=mu, scale=sigma)\n",
    "y = nv.pdf(x)\n",
    "\n",
    "plt.figure(figsize=(12,6), dpi=80)\n",
    "plt.plot(x,y,linewidth=3)\n",
    "plt.show()"
   ]
  },
  {
   "cell_type": "code",
   "execution_count": null,
   "metadata": {
    "scrolled": true
   },
   "outputs": [],
   "source": [
    "# Normale verdeling - scipy.stats formules \n",
    "\n",
    "x = np.linspace(-5,5,100)\n",
    "\n",
    "nv1 = stats.norm(loc=0, scale=np.sqrt(.2))\n",
    "nv2 = stats.norm(loc=0, scale=np.sqrt(1.))\n",
    "nv3 = stats.norm(loc=0, scale=np.sqrt(5.))\n",
    "nv4 = stats.norm(loc=2, scale=np.sqrt(0.5))\n",
    "\n",
    "y1 = nv1.pdf(x)\n",
    "y2 = nv2.pdf(x)\n",
    "y3 = nv3.pdf(x)\n",
    "y4 = nv4.pdf(x)\n",
    "\n",
    "fig, ax = plt.subplots(figsize=fsize, dpi=fdpi)\n",
    "\n",
    "ax.plot(x, y1, linewidth=3, label='$\\mu = 0, \\sigma^2 = 0.2$')\n",
    "ax.plot(x, y2, linewidth=3, label='$\\mu = 0, \\sigma^2 = 1.0$')\n",
    "ax.plot(x, y3, linewidth=3, label='$\\mu = 0, \\sigma^2 = 5.0$')\n",
    "ax.plot(x, y4, linewidth=3, label='$\\mu = 2, \\sigma^2 = 0.5$')\n",
    "\n",
    "ax.get_yaxis().set_visible(False)\n",
    "\n",
    "ax.grid()\n",
    "ax.legend(fontsize=20)\n",
    "\n",
    "plt.savefig(imgdir + \"normaalverdeling_vglk.png\")\n"
   ]
  },
  {
   "cell_type": "markdown",
   "metadata": {},
   "source": [
    "## Normaalverdeling in de praktijk\n",
    "\n",
    "Een voorbeeld van een normaalverdeling in de praktijk is de verdeling van IQ over de populatie. Deze is normaalverdeeld met gemiddelde $mu = 100$ en standaardafwijking $sigma = 15$ (en is dus _niet_ standaard normaalverdeeld)."
   ]
  },
  {
   "cell_type": "code",
   "execution_count": null,
   "metadata": {},
   "outputs": [],
   "source": [
    "# Formule van de verdeling\n",
    "mu, sigma = 100, 15\n",
    "nv = stats.norm(loc=mu, scale=sigma)\n",
    "\n",
    "x = np.linspace(mu-3.5*sigma, mu+3.5*sigma, 100)\n",
    "y = nv.pdf(x)\n",
    "\n",
    "# Creeer figuur\n",
    "fig, ax = plt.subplots(figsize=fsize, dpi=fdpi)\n",
    "ax.set_ylim(-.4*nv.pdf(mu), 1.1*nv.pdf(mu))\n",
    "\n",
    "# Waarden op x-as plaatsen \n",
    "ax.set_xticks(np.arange(mu-3*sigma, mu+4*sigma, sigma))\n",
    "\n",
    "#ax.set_xticklabels([\"$\\mu-3\\sigma$\", \"$\\mu-2\\sigma$\", \"$\\mu-\\sigma$\", \"$\\mu$\", \"$\\mu+\\sigma$\", \"$\\mu+2\\sigma$\", \"$\\mu+3\\sigma$\"])\n",
    "#ax.set_xticklabels([\"$\\mu-3\\sigma$ \\n 99.73%\", \"$\\mu-2\\sigma$ \\n 95.45%\", \"$\\mu-\\sigma$ \\n 68.27%\", \"$\\mu$\", \"$\\mu+\\sigma$\", \"$\\mu+2\\sigma$\", \"$\\mu+3\\sigma$\"])\n",
    "\n",
    "# Assen aanpassen\n",
    "ax.spines[\"top\"].set_visible(False)\n",
    "ax.spines[\"right\"].set_visible(False)\n",
    "ax.spines[\"left\"].set_visible(False)\n",
    "ax.spines['bottom'].set_position('zero') \n",
    "ax.get_yaxis().set_visible(False)\n",
    "\n",
    "# Grid toevoegen\n",
    "ax.grid()\n",
    "\n",
    "# Titel toevoegen\n",
    "fig.suptitle(\"IQ ($\\mu = \" + str(mu) + \"$ en $\\sigma = \" + str(sigma) + \"$)\", fontsize=28)\n",
    "\n",
    "ax.plot(x, y, linewidth=3, color='red')\n",
    "\n",
    "# Opslaan in bestand\n",
    "plt.savefig(imgdir + \"normaalverdeling_iq.png\")"
   ]
  },
  {
   "cell_type": "markdown",
   "metadata": {},
   "source": [
    "## Voorbeeld. Bananen"
   ]
  },
  {
   "cell_type": "code",
   "execution_count": null,
   "metadata": {},
   "outputs": [],
   "source": [
    "# Normale verdeling - bananen\n",
    "\n",
    "mu, sigma = 50, 7.5\n",
    "\n",
    "# scipy.stats functies\n",
    "banaanverdeling = stats.norm(loc=mu,scale=sigma)\n",
    "\n",
    "# x tussen mu - 3 * sd en mu + 3 * sd\n",
    "x = np.linspace(mu-3*sigma, mu+3*sigma, 100)\n",
    "y = banaanverdeling.pdf(x)\n",
    "\n",
    "plt.figure(figsize=(12,6), dpi=80)\n",
    "\n",
    "plt.plot(x,y)\n",
    "# set x-ticks\n",
    "plt.xticks(np.linspace(mu-3*sigma,mu+3*sigma,7))\n",
    "\n",
    "plt.show()"
   ]
  },
  {
   "cell_type": "code",
   "execution_count": null,
   "metadata": {
    "scrolled": true
   },
   "outputs": [],
   "source": [
    "# Geef een miljoen punten verdeeld volgens deze normaalverdeling\n",
    "points = banaanverdeling.rvs(size=1000000)\n",
    "\n",
    "# Histogram van de punten\n",
    "fig, ax = plt.subplots(figsize=fsize, dpi=fdpi)\n",
    "hist, bins = np.histogram(points, bins=50)\n",
    "width = 0.7 * (bins[1] - bins[0])\n",
    "center = (bins[:-1] + bins[1:]) / 2\n",
    "plt.xticks(np.linspace(mu-3*sigma,mu+3*sigma,7))  #, ('$\\mu-3\\sigma$', '$\\mu-2\\sigma$', '$\\mu-\\sigma$', '$\\mu$', '$\\mu+\\sigma$', '$\\mu+2\\sigma$','$\\mu+3\\sigma$'))\n",
    "plt.bar(center, hist, align='center', width=width)\n",
    "plt.show()"
   ]
  },
  {
   "cell_type": "code",
   "execution_count": null,
   "metadata": {},
   "outputs": [],
   "source": [
    "# Histogram met Seaborn\n",
    "import seaborn as sns\n",
    "\n",
    "fig, ax = plt.subplots(figsize=fsize, dpi=fdpi)\n",
    "sns.distplot(points)\n",
    "plt.xticks(np.linspace(mu-3*sigma,mu+3*sigma,7)) #, ('$\\mu-3\\sigma$', '$\\mu-2\\sigma$', '$\\mu-\\sigma$', '$\\mu$', '$\\mu+\\sigma$', '$\\mu+2\\sigma$','$\\mu+3\\sigma$'))\n",
    "\n",
    "plt.show()"
   ]
  },
  {
   "cell_type": "code",
   "execution_count": null,
   "metadata": {},
   "outputs": [],
   "source": [
    "print(\"{:.1f}% van de bananen weegt minder dan 40g.\".format(banaanverdeling.cdf(40)*100))\n",
    "print(\"{:.1f}% van de banenen weegt meer dan 65g.\".format(100-banaanverdeling.cdf(65)*100))\n",
    "print(\"{:.1f}% van de banenen weegt meer dan 65g.\".format(banaanverdeling.sf(65)*100))\n",
    "print(\"{:.1f}% van de bananen weegt tussen de 40 en de 65g.\\n\".format((banaanverdeling.cdf(65)-banaanverdeling.cdf(40))*100))\n",
    "\n",
    "print(\"De lichtste kwart van de bananen zijn lichter dan {:.1f}g.\".format(banaanverdeling.ppf(.25)))\n",
    "print(\"De zwaarste kwart van de bananen zijn zwaarder dan {:.1f}g.\".format(banaanverdeling.isf(.25)))\n",
    "print(\"De middelste tiende van de banenen weegt tussen de {:.1f}g en de {:.1f}g.\".format(banaanverdeling.ppf(.45),banaanverdeling.isf(.45)))\n"
   ]
  },
  {
   "cell_type": "code",
   "execution_count": null,
   "metadata": {},
   "outputs": [],
   "source": []
  },
  {
   "cell_type": "code",
   "execution_count": null,
   "metadata": {},
   "outputs": [],
   "source": []
  }
 ],
 "metadata": {
  "kernelspec": {
   "display_name": "Python 3 (ipykernel)",
   "language": "python",
   "name": "python3"
  },
  "language_info": {
   "codemirror_mode": {
    "name": "ipython",
    "version": 3
   },
   "file_extension": ".py",
   "mimetype": "text/x-python",
   "name": "python",
   "nbconvert_exporter": "python",
   "pygments_lexer": "ipython3",
   "version": "3.8.2"
  }
 },
 "nbformat": 4,
 "nbformat_minor": 4
}
