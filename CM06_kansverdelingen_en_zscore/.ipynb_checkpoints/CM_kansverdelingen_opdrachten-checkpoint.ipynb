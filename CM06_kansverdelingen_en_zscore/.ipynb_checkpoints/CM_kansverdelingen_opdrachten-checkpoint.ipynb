{
 "cells": [
  {
   "cell_type": "markdown",
   "metadata": {},
   "source": [
    "# Kansverdelingen\n"
   ]
  },
  {
   "cell_type": "markdown",
   "metadata": {},
   "source": [
    "In dit notebook vind je de opdrachten over kansverdeling.\n",
    "- <a href=\"#kv_opdracht1\"> Opdracht 1 </a> maak je ter voorbereiding op het college.\n",
    "- <a href=\"#kv_opdracht2\"> Opdracht 2 </a> maken we in het college."
   ]
  },
  {
   "cell_type": "markdown",
   "metadata": {},
   "source": [
    "<a id=\"kv_opdracht1\"></a>\n",
    "## Opdracht 1"
   ]
  },
  {
   "cell_type": "code",
   "execution_count": null,
   "metadata": {},
   "outputs": [],
   "source": [
    "import numpy as np\n",
    "import scipy.stats as stats"
   ]
  },
  {
   "cell_type": "markdown",
   "metadata": {},
   "source": [
    "## Voorbeeld - bananen \n",
    "Gegeven is een kansverdeling voor het gewicht van bananen met de volgende eigenschappen:\n",
    "- µ = ‘mu’ = gemiddelde = 50 gr\n",
    "- σ = ‘sigma’ = standaard deviatie = 7,5 gram\n",
    "\n",
    "Voor normaalverdeling gelden de volgende regels:\n",
    "\n",
    "Bij 90% hoort -/+ 1,64 σ\n",
    "\n",
    "Bij 95% hoort -/+ 1,96 σ\n",
    "\n",
    "Bij 99% hoort -/+ 2,58 σ"
   ]
  },
  {
   "cell_type": "markdown",
   "metadata": {},
   "source": [
    "Bepaal met de hand: \n",
    "* 90% weegt tussen de …… en …... gram\n",
    "- 99% weegt tussen de …… en …… gram \n",
    "- 5% weegt meer dan …… gram\n",
    "- 5% weegt minder dan …… gram\n",
    "- 95% weegt minder dan …… gram"
   ]
  },
  {
   "cell_type": "code",
   "execution_count": null,
   "metadata": {
    "tags": [
     "student"
    ]
   },
   "outputs": [],
   "source": []
  },
  {
   "cell_type": "markdown",
   "metadata": {},
   "source": [
    "Hieronder zie je een voorbeeld van hoe je kansen kunt berekenen met behulp van scipy"
   ]
  },
  {
   "cell_type": "code",
   "execution_count": null,
   "metadata": {},
   "outputs": [],
   "source": [
    "# Berekening van waarde naar kans met scipy\n",
    "mu, sigma = 50, 7.5\n",
    "\n",
    "# scipy.stats functies\n",
    "nv = stats.norm(loc=mu,scale=sigma)\n",
    "print(nv.cdf(mu - 1.96*sigma))   # 35,3 gram\n",
    "print(nv.cdf(mu + 1.96*sigma))   # 64,7 gram\n",
    "print(nv.cdf(mu + 1.96*sigma) - nv.cdf(mu - 1.96*sigma)) # tussen 35,3 en 64,7 gram"
   ]
  },
  {
   "cell_type": "markdown",
   "metadata": {
    "tags": []
   },
   "source": [
    "Kansverdeling bananen, met µ = 50 gram en σ = 7,5 gram\n",
    "\n",
    "Bereken met de functies van `scipy.stats`:\n",
    "\n",
    "- 5% weegt minder dan ... gram\n",
    "- de middelste 90% weegt tussen de ... en ... gram\n",
    "- het derde kwart weegt tussen de ... en ... gram\n",
    "- ...% weegt meer dan 40 gram\n",
    "- ...% weegt tussen de 61 en 73 gram"
   ]
  },
  {
   "cell_type": "code",
   "execution_count": null,
   "metadata": {},
   "outputs": [],
   "source": []
  },
  {
   "cell_type": "markdown",
   "metadata": {},
   "source": [
    "<a id = \"kv_opdracht2\"></a>\n",
    "## Opdracht 2 - toetsuitslagen\n",
    "\n",
    "\n",
    "In deze opdracht gaan we de toetsuitslagen analyseren van het eerstejaarsvak Programming (PROG).\n",
    "\n",
    "De tentamenuitslagen zijn beschikbaar gesteld in een Excelbestand: uitslag_prog.xlsx"
   ]
  },
  {
   "cell_type": "markdown",
   "metadata": {},
   "source": [
    "### Deel 1. Libraries importeren\n",
    "\n",
    "We zullen voor de analyses gebruik maken van `pandas` en `matplotlib`. Importeer hiervoor de juiste biblioteheken.\n",
    "Matplotlib is standaard geinstalleerd als je Anaconda gebruikt. In de overige gevallen kun je Matplotlib als volgt installeren:\n",
    "\n",
    "1. Open een terminal: Win+R -> cmd -> enter: pip install matplotlib\n",
    "2. Installeer via de anaconda package manager: conda install matplotlib\n",
    "\n",
    "Je kunt natuurlijk ook in Google Colab werken: dan hoef je niks te installeren"
   ]
  },
  {
   "cell_type": "code",
   "execution_count": null,
   "metadata": {},
   "outputs": [],
   "source": [
    "# Bibliotheken\n",
    "from datetime import datetime\n",
    "import pandas as pd\n",
    "import numpy as np\n",
    "import scipy as sp\n",
    "from scipy import stats\n",
    "import matplotlib.pyplot as plt\n",
    "\n",
    "%matplotlib inline"
   ]
  },
  {
   "cell_type": "markdown",
   "metadata": {},
   "source": [
    "### Deel 2. Analyse dataset\n",
    "In dit deel gaan we de data ophalen, een aantal zaken aanpassen en de eerste analyses uitvoeren.\n"
   ]
  },
  {
   "cell_type": "markdown",
   "metadata": {},
   "source": [
    "- Importeer de dataset in een geschikt dataframe en beschrijf de dataset:\n",
    "  * Wat zijn de dimensies van het dataframe? Wat betekenen deze getallen? **Tip**: gebruik de shape functie\n",
    "  * Wat is de betekenis van de attributen in het dataframe? **Tip**: gebruik de head() functie\n",
    "  * Wat zijn de datatypes voor de attributen (nominaal/categoriaal/discreet/continue)? **Tip**: gebruik de dtypes functie maar denk ook zelf na!"
   ]
  },
  {
   "cell_type": "code",
   "execution_count": null,
   "metadata": {},
   "outputs": [],
   "source": [
    "# Importeer datasets\n",
    "uitslag_prog = pd.read_excel(\"uitslag_prog.xlsx\")\n",
    "\n",
    "# Merk op: mogelijk krijg je foutmeldingen, lees deze goed want de oplossing is vaak simpel"
   ]
  },
  {
   "cell_type": "code",
   "execution_count": null,
   "metadata": {
    "tags": [
     "student"
    ]
   },
   "outputs": [],
   "source": []
  },
  {
   "cell_type": "markdown",
   "metadata": {},
   "source": [
    "***Tip 1: schoon niet alleen de inhoud van de data op, maar ook de labels / namen***\n",
    "\n",
    "De Excel-file bevatte dezelfde header-name voor alle scores. De importer heeft dit voor je opgelost door duplicate header-namen te nummeren. Nadeel is echter dat de eerste zelf geen nummer heeft. Manipuleer de headers zodat de telling begint met Score.1 ipv. Score (merk op dat Score.1 dan hernoemt moet worden naar Score.2, etc.). Toon hierna de eerste 10 regels van het dataframe.\n",
    "\n",
    "\n"
   ]
  },
  {
   "cell_type": "code",
   "execution_count": null,
   "metadata": {},
   "outputs": [],
   "source": [
    "# Code voor het hernoemen\n",
    "columns=lambda x: x[1:]\n",
    "\n",
    "replacements = {\"Score.\" + str(i) : \"Score.\" + str(i+1)  for i in range(1, 40)}\n",
    "replacements[\"Score\"] = \"Score.1\""
   ]
  },
  {
   "cell_type": "code",
   "execution_count": null,
   "metadata": {},
   "outputs": [],
   "source": [
    "# Hernoemen van de columns van het dataframe\n",
    "uitslag_prog.rename(columns=replacements, inplace=True)"
   ]
  },
  {
   "cell_type": "code",
   "execution_count": null,
   "metadata": {},
   "outputs": [],
   "source": [
    "uitslag_prog.head()"
   ]
  },
  {
   "cell_type": "markdown",
   "metadata": {},
   "source": [
    "Het datatype van kolom 'eindtijd' zou overduidelijk een tijdstip moeten zijn, maar `dtypes` geeft aan dat het een object is. Converteer deze kolom naar een datetime. **Tip**: gebruik `to_datetime()` van Pandas. Controleer jouw actie met de `info()` functie."
   ]
  },
  {
   "cell_type": "code",
   "execution_count": null,
   "metadata": {
    "tags": [
     "student"
    ]
   },
   "outputs": [],
   "source": []
  },
  {
   "cell_type": "markdown",
   "metadata": {},
   "source": [
    "Bepaal een paar statistieken van de dataset met de `describe()` functie. Wat betekenen deze getallen?\n"
   ]
  },
  {
   "cell_type": "code",
   "execution_count": null,
   "metadata": {
    "tags": [
     "student"
    ]
   },
   "outputs": [],
   "source": []
  },
  {
   "cell_type": "markdown",
   "metadata": {},
   "source": [
    "StudentNummer wordt behandeld als een continue getal, maar eigenlijk zou het type nominaal moet zijn. Converteer het type van StudentNummer naar Categorial m.b.v. `astype`. Voer nu nogmaals `describe()` uit. Wat is er veranderd?\n"
   ]
  },
  {
   "cell_type": "code",
   "execution_count": null,
   "metadata": {
    "tags": [
     "student"
    ]
   },
   "outputs": [],
   "source": []
  },
  {
   "cell_type": "markdown",
   "metadata": {},
   "source": [
    "***Tip 2: visualisaties helpen bij het analyseren van de data***\n",
    "\n",
    "Plot een histogram voor het attribuut `Eindtijd` (zorg dat de labels op de assen niet overlappen). Beschrijf de verdeling (scheef? multimodaal? normaal?). Verklaar wat je ziet."
   ]
  },
  {
   "cell_type": "code",
   "execution_count": null,
   "metadata": {},
   "outputs": [],
   "source": [
    "uitslag_prog.Eindtijd.hist(bins=50, xrot=45)"
   ]
  },
  {
   "cell_type": "code",
   "execution_count": null,
   "metadata": {},
   "outputs": [],
   "source": []
  },
  {
   "cell_type": "markdown",
   "metadata": {},
   "source": [
    "Beschrijf de verdeling (scheef? multimodaal? normaal?). Verklaar wat je ziet."
   ]
  },
  {
   "cell_type": "markdown",
   "metadata": {
    "tags": [
     "student"
    ]
   },
   "source": []
  },
  {
   "cell_type": "markdown",
   "metadata": {},
   "source": [
    "### Deel 3. Analyse attributen met behulp van centrummaten\n",
    "\n",
    "In dit deel zullen we de vragen van het tentamen analyseren met behulp van de centrummaten"
   ]
  },
  {
   "cell_type": "markdown",
   "metadata": {},
   "source": [
    "Bereken het gemiddelde van de score van elke vraag en sorteer de waardes van hoog naar laag. **Tip**: ga niet zelf code schrijven om deze berekeningen uit te voeren maar maak gebruik van de standaardfuncties van Pandas! \n",
    "  "
   ]
  },
  {
   "cell_type": "code",
   "execution_count": null,
   "metadata": {
    "scrolled": true,
    "tags": [
     "student"
    ]
   },
   "outputs": [],
   "source": []
  },
  {
   "cell_type": "markdown",
   "metadata": {},
   "source": [
    "Plot het gemiddelde per vraag in een barchart en daarna in een linechart. **Tip**: maak gebruik van de `plot()` functie van een Pandas dataframe."
   ]
  },
  {
   "cell_type": "code",
   "execution_count": null,
   "metadata": {
    "tags": [
     "student"
    ]
   },
   "outputs": [],
   "source": []
  },
  {
   "cell_type": "markdown",
   "metadata": {},
   "source": [
    "Bereken de mediaan. \n",
    "- Wat kun je zeggen over de mean van een vraag als je de mediaan weet? Is de mean bijvoorbeeld altijd hoger of lager dan een bepaalde waarde gegeven de mediaan? \n",
    "- Is deze relatie er altijd?   "
   ]
  },
  {
   "cell_type": "code",
   "execution_count": null,
   "metadata": {
    "tags": [
     "student"
    ]
   },
   "outputs": [],
   "source": []
  },
  {
   "cell_type": "markdown",
   "metadata": {},
   "source": [
    "Bereken de modus. \n",
    "- Waarom zie je voor deze centrummaat wél StudentNummer als kolom terug in het resultaat? \n",
    "- Waarom zie je meerdere rijen?\n",
    "- Waarom bevatten sommige cellen NaN?"
   ]
  },
  {
   "cell_type": "code",
   "execution_count": null,
   "metadata": {
    "scrolled": true,
    "tags": [
     "student"
    ]
   },
   "outputs": [],
   "source": []
  },
  {
   "cell_type": "markdown",
   "metadata": {},
   "source": [
    "### Deel 4. Analyse attributen met behulp van spreidingsmaten\n",
    "We gaan verder met het analyseren van de vragen, maar nu met behulp van enkele spreidingsmaten."
   ]
  },
  {
   "cell_type": "markdown",
   "metadata": {},
   "source": [
    "Bereken de variantie van elke vraag. Sorteer deze waardes.\n",
    "- Wat zegt dit getal?\n",
    "- Wat voor *kwalitatieve* uitspraak kun je doen over een vraag als de variantie hoog is?"
   ]
  },
  {
   "cell_type": "code",
   "execution_count": null,
   "metadata": {
    "tags": [
     "student"
    ]
   },
   "outputs": [],
   "source": []
  },
  {
   "cell_type": "markdown",
   "metadata": {},
   "source": [
    "Bereken de standaard deviatie. \n",
    "- Hoe verschilt deze maat van de variantie? \n",
    "- Is er een verband tussen de standaard deviatie en variantie? Welke van beide maten is intuitiever?"
   ]
  },
  {
   "cell_type": "code",
   "execution_count": null,
   "metadata": {
    "scrolled": true,
    "tags": [
     "student"
    ]
   },
   "outputs": [],
   "source": []
  },
  {
   "cell_type": "markdown",
   "metadata": {},
   "source": [
    "Hieronder wordt de gemiddelde score per vraag geplot (als *bars*) en daarnaast de standaarddeviatie (als lijn).\n",
    "- Is er op het oog een verband tussen de centrummaat en de spreidingsmaat?"
   ]
  },
  {
   "cell_type": "code",
   "execution_count": null,
   "metadata": {},
   "outputs": [],
   "source": [
    "# Visualisatie 1\n",
    "uitslag_prog.loc[:,'Score.1':'Score.40'].mean().sort_values().plot.bar(yerr=uitslag_prog.std(), width = 0.9, figsize=(14, 6))"
   ]
  },
  {
   "cell_type": "code",
   "execution_count": null,
   "metadata": {},
   "outputs": [],
   "source": [
    "# Visualisatie 2\n",
    "means = uitslag_prog.loc[:,'Score.1':'Score.40'].mean()\n",
    "stds = uitslag_prog.loc[:,'Score.1':'Score.40'].std()\n",
    "means_stds = pd.concat([means, stds], axis=1)\n",
    "\n",
    "means_stds.sort_values(by=0, inplace=True)\n",
    "\n",
    "means_stds[0].plot(kind='bar')\n",
    "means_stds[1].plot(kind='line')"
   ]
  },
  {
   "cell_type": "markdown",
   "metadata": {},
   "source": [
    "## Deel 5. Analyse van studenten\n",
    "In deel 3 en 4 hebben we de kolommen (attributen) geanalyseerd, nu gaan we de rijen (de verschillende studenten in de dataset) analyseren."
   ]
  },
  {
   "cell_type": "markdown",
   "metadata": {},
   "source": [
    "Bepaal de gemiddelde scores per student en toon de hoogstscorende eerst. \n",
    "- **Tip 1**: we hebben de `mean` functie hiervoor gebruikt om het gemiddelde van kolommen te berekenen, nu wil je eigenlijk het gemiddelde van rijen berekenen... zoek naar de inputparameter voor de `mean` functie waarmee je dit makkelijk kunt fixen! \n",
    "- **Tip 2**: als je een gemiddelde krijgt groter dan 1, kijk dan goed naar welke kolommen je als input mee geeft"
   ]
  },
  {
   "cell_type": "code",
   "execution_count": null,
   "metadata": {
    "tags": [
     "student"
    ]
   },
   "outputs": [],
   "source": []
  },
  {
   "cell_type": "markdown",
   "metadata": {},
   "source": [
    "***Tip 3: het kan handig zijn om zelf de dataset uit te breiden met nieuwe informatie***\n",
    "\n",
    "Onderstaande code berekent het cijfer voor elke student. Hierbij wordt rekening gehouden met de *cesuur* (= gokkans):\n",
    "  1. cijfer = $\\frac{9}{30}(\\sum_{i=1}^{40}{Score.i}-10) + 1$\n",
    "  2. eindcijfer = $\\max(1, cijfer)$."
   ]
  },
  {
   "cell_type": "code",
   "execution_count": null,
   "metadata": {},
   "outputs": [],
   "source": [
    "uitslag_prog['Cijfer'] = (9/30)*(uitslag_prog.sum(1) - 10) + 1\n",
    "uitslag_prog['Eindcijfer'] = np.maximum( uitslag_prog['Cijfer'], [1]*uitslag_prog.shape[0] )"
   ]
  },
  {
   "cell_type": "markdown",
   "metadata": {
    "tags": []
   },
   "source": [
    "Bepaal het totale gemiddelde over alle studenten. Doe dit nogmaals, maar dan alleen de studenten die een voldoende hebben gescoord."
   ]
  },
  {
   "cell_type": "code",
   "execution_count": null,
   "metadata": {
    "tags": [
     "student"
    ]
   },
   "outputs": [],
   "source": []
  },
  {
   "cell_type": "markdown",
   "metadata": {},
   "source": [
    "Plot een histogram van de eindcijfers met de `plot.hist()` functie van een dataframe. Met Matplotlib kan het *fancier*, maar dat komt later! Wat kun je zeggen over de verdeling (scheef? multimodaal? normaal?) En voor cijfer?"
   ]
  },
  {
   "cell_type": "code",
   "execution_count": null,
   "metadata": {
    "scrolled": true,
    "tags": [
     "student"
    ]
   },
   "outputs": [],
   "source": []
  },
  {
   "cell_type": "markdown",
   "metadata": {},
   "source": [
    "Laten we aannemen dat de cijfers normaal verdeeld zijn. Bepaal de parameters van een normaalverdeling voor de eindcijfers van alle studenten.\n"
   ]
  },
  {
   "cell_type": "markdown",
   "metadata": {
    "tags": [
     "student"
    ]
   },
   "source": [
    "Een normaalverdeling wordt beschreven door 2 parameters:  \n",
    "1. Het gemiddelde $\\mu$  \n",
    "2. De standaarddeviatie $\\sigma$\n",
    "\n",
    "Als we de cijferdistributie willen benaderen met een normaalverdeling, dan geldt:\n",
    "1. $\\mu = $ uitslag_prog.Cijfer.mean()\n",
    "2. $\\sigma = $ uitslag_prog.Cijfer.std()"
   ]
  },
  {
   "cell_type": "markdown",
   "metadata": {},
   "source": [
    "Sla het gemiddelde op als `mu_cijfers` en de standaarddeviatie als `sigma_cijfers` en run dan onderstaande code de normaalverdeling als formule (`normal_cijfers`) te genereren en om deze normaalverdeling te visualiseren. In de visualisatie worden ook de originele gegevens getoond, je ziet dat er *bijna* sprake is van een normaalverdeling."
   ]
  },
  {
   "cell_type": "code",
   "execution_count": null,
   "metadata": {
    "tags": [
     "student"
    ]
   },
   "outputs": [],
   "source": [
    "# Geef deze variabelen de correcte waarde\n",
    "mu_cijfers = \n",
    "sigma_cijfers = \n",
    "\n",
    "# Pas deze code niet aan\n",
    "normal_cijfers = sp.stats.norm(mu_cijfers, sigma_cijfers)\n",
    "x = np.linspace(-5,15,1000)\n",
    "y = normal_cijfers.pdf(x)\n",
    "\n",
    "fig, ax1 = plt.subplots()\n",
    "ax1.plot(x,y)\n",
    "ax2 = ax1.twinx()\n",
    "ax2.hist(uitslag_prog.Eindcijfer, bins=15)\n",
    "plt.show()"
   ]
  },
  {
   "cell_type": "markdown",
   "metadata": {},
   "source": [
    "Bereken:\n",
    " * $\\Pr(C < 6)$. **Tip**: gebruik `normal_cijfers` en de functie `cdf()` \n",
    " * $\\Pr(C > 8,5)$\n",
    " * $\\Pr(C > 10)$. Leg uit waarom dit groter dan 0 is.\n",
    " * $\\Pr(6 < C < 8,5)$.\n",
    " * $\\Pr(C < 6 \\lor C > 8,5) \\>$ ($\\lor$ is wiskundige notatie voor OR)\n"
   ]
  },
  {
   "cell_type": "code",
   "execution_count": null,
   "metadata": {
    "tags": [
     "student"
    ]
   },
   "outputs": [],
   "source": []
  },
  {
   "cell_type": "markdown",
   "metadata": {},
   "source": [
    "Hier visualiseren we het voorlaatste scenario, gewoon omdat het kan:\n"
   ]
  },
  {
   "cell_type": "code",
   "execution_count": null,
   "metadata": {
    "scrolled": true
   },
   "outputs": [],
   "source": [
    "plt.plot(x,y)\n",
    "plt.fill_between(x,y, where=sp.logical_and(x>6, x<8.5))\n",
    "plt.show()"
   ]
  },
  {
   "cell_type": "markdown",
   "metadata": {},
   "source": [
    "Welk cijfer moet je minimaal hebben om bij de top 10% van de klas te behoren?\n"
   ]
  },
  {
   "cell_type": "code",
   "execution_count": null,
   "metadata": {
    "tags": [
     "student"
    ]
   },
   "outputs": [],
   "source": []
  }
 ],
 "metadata": {
  "celltoolbar": "Tags",
  "kernelspec": {
   "display_name": "Python 3 (ipykernel)",
   "language": "python",
   "name": "python3"
  },
  "language_info": {
   "codemirror_mode": {
    "name": "ipython",
    "version": 3
   },
   "file_extension": ".py",
   "mimetype": "text/x-python",
   "name": "python",
   "nbconvert_exporter": "python",
   "pygments_lexer": "ipython3",
   "version": "3.8.2"
  }
 },
 "nbformat": 4,
 "nbformat_minor": 4
}
