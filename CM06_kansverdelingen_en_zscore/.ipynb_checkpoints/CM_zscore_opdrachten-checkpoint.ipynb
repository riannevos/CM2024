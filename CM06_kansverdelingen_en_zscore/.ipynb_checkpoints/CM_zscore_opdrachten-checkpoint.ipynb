{
 "cells": [
  {
   "cell_type": "markdown",
   "metadata": {},
   "source": [
    "# Z-score - opdracht - vla-fabrikant"
   ]
  },
  {
   "cell_type": "markdown",
   "metadata": {},
   "source": [
    "Een fabrikant van pakken vla met een inhoud van 1000 ml wordt er van beschuldigd dat hij te weinig vla in zijn pakken doet.\n",
    "De Europese e-waarde norm is dat als een fabrikant op het pak zet dat er 1000 ml in zit, dat dan 97.5% van de producten dit ook minimaal moet hebben.\n",
    "\n",
    "De fabrikant kan op zijn machine de vulinhoud instellen. De uitgaande vulling (met andere woorden vulnauwkeurigheid) is normaal verdeeld met een standaardafwijking 5 ml .\n",
    "\n",
    "Waar moet de machine op ingesteld worden, om statistisch gezien te voldoen aan de e-waarde norm?\n"
   ]
  },
  {
   "cell_type": "markdown",
   "metadata": {},
   "source": [
    "### Uitwerking met de hand"
   ]
  },
  {
   "cell_type": "markdown",
   "metadata": {
    "tags": [
     "student"
    ]
   },
   "source": [
    "+ $\\sigma = 5$ ml;\n",
    "+ We zoeken naar de instelling van de vulinhoud, dat is het gemiddelde $\\mu$;\n",
    "+ In $97,5\\%$ van de gevallen moet gelden dat inhoud $i$ van het pak $ i \\ge 1000$ml;\n",
    "+ Dat is het geval bij $\\mu – 1,96 \\sigma = i$\n",
    "+ Dus: $\\mu = i + 1,96 \\sigma = 1000 + 1,96 \\times 5 = 1009,8$ ml."
   ]
  },
  {
   "cell_type": "markdown",
   "metadata": {},
   "source": [
    "### Uitwerking met `scipy.stats`"
   ]
  },
  {
   "cell_type": "code",
   "execution_count": null,
   "metadata": {},
   "outputs": [],
   "source": [
    "import numpy as np\n",
    "import matplotlib.pyplot as plt\n",
    "import scipy.stats as stats"
   ]
  },
  {
   "cell_type": "code",
   "execution_count": null,
   "metadata": {
    "tags": [
     "student"
    ]
   },
   "outputs": [],
   "source": []
  },
  {
   "cell_type": "code",
   "execution_count": null,
   "metadata": {
    "tags": [
     "student"
    ]
   },
   "outputs": [],
   "source": []
  }
 ],
 "metadata": {
  "celltoolbar": "Tags",
  "kernelspec": {
   "display_name": "Python 3 (ipykernel)",
   "language": "python",
   "name": "python3"
  },
  "language_info": {
   "codemirror_mode": {
    "name": "ipython",
    "version": 3
   },
   "file_extension": ".py",
   "mimetype": "text/x-python",
   "name": "python",
   "nbconvert_exporter": "python",
   "pygments_lexer": "ipython3",
   "version": "3.8.2"
  }
 },
 "nbformat": 4,
 "nbformat_minor": 4
}
