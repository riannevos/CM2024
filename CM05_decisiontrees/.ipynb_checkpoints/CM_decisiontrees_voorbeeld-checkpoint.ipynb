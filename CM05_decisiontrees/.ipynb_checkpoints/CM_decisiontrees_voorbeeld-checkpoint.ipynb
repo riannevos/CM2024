{
 "cells": [
  {
   "cell_type": "code",
   "execution_count": null,
   "metadata": {},
   "outputs": [],
   "source": [
    "import numpy as np\n",
    "import pandas as pd\n",
    "import matplotlib.pyplot as plt\n",
    "import graphviz\n",
    "import scipy.stats as stats\n",
    "\n",
    "from sklearn.tree import DecisionTreeClassifier, export_graphviz\n",
    "from sklearn.model_selection import train_test_split\n",
    "from sklearn.metrics import accuracy_score"
   ]
  },
  {
   "cell_type": "markdown",
   "metadata": {},
   "source": [
    "# Decision Trees - eenvoudig voorbeeld\n",
    "We willen een model maken dat voorspelt of een student zijn toets voor cm gaat halen. We hebben data over 7 studenten van afgelopen jaar.\n",
    "\n",
    "Hoewel 7 studenten te weinig is om een goed model te kunnen maken, is dit voorbeeld bedoeld om te laten zien hoe een decision tree algoritme onder de motorkap kan werken.\n",
    "\n",
    "Merk op dat er niet één decision tree algoritme is. Sommige algoritmes gebruiken bijvoorbeeld:\n",
    "- entropie als maat voor de zuiverheid van een node, anderen gini of iets anders. \n",
    "- Sommige algoritmen kunnen goed werken met categoriale voorspellende variabelen, anderen niet. \n",
    "- Sommige algoritmes werken enkel met binaire splits, anderen staan ook splists in meer dan 2 nodes toe\n",
    "- veel algoritmes gebruiken 'pruning', sommigen niet\n",
    "- etc. etc."
   ]
  },
  {
   "cell_type": "code",
   "execution_count": null,
   "metadata": {},
   "outputs": [],
   "source": [
    "df = pd.DataFrame({'vooropleiding': ['MBO', 'MBO', 'anders', 'havo', 'anders', 'MBO', 'havo'],\n",
    "                     'uur': [23, 18, 32, 28, 11, 15, 2], \n",
    "                     'Gehaald': [True, True, True, False, False, False, False]})\n",
    "df"
   ]
  },
  {
   "cell_type": "markdown",
   "metadata": {},
   "source": [
    "### Stap 1\n",
    "\n",
    "Op welke feature splitsen we en wat is de splitsingswaarde?\n",
    "We willen de beste feature en de beste splitsingswaarde. Daarom moeten we eerst voor alle features nagaan wat de optimale split is en hoe goed die is. Hierna kunnen we de beste kiezen.\n",
    "Hoe gaan we te werk? Iemand met een idee mag het zeggen!"
   ]
  },
  {
   "cell_type": "code",
   "execution_count": null,
   "metadata": {},
   "outputs": [],
   "source": [
    "df"
   ]
  },
  {
   "cell_type": "code",
   "execution_count": null,
   "metadata": {},
   "outputs": [],
   "source": [
    "# ik begin met vooropleiding:\n",
    "display(df[df.vooropleiding == 'MBO'])\n",
    "print('De entropie is van de groep MBO-ers is: {:.3f}'.format(stats.entropy([2,1], base=2)))\n",
    "display(df[df.vooropleiding != 'MBO'])\n",
    "print('De entropie is van de groep niet MBO-ers is: {:.3f}'.format(stats.entropy([1,3], base=2)))\n",
    "print('De totale entropy voor een split op MBO is dus: 3/7 x 0.918 + 4/7 x  0.811 = 0.857')"
   ]
  },
  {
   "cell_type": "markdown",
   "metadata": {},
   "source": [
    "Doen we dit ook voor de andere splits van vooropleiding dan vinden we:\n",
    "\n",
    "| Vooropleiding | Entropie    |\n",
    "| :---  | --- |\n",
    "| MBO           | 0.857       |\n",
    "| havo          |     0.694   |\n",
    "| anders        |      0.979  |\n",
    "Dus de beste split voor vooropleiding is op havo."
   ]
  },
  {
   "cell_type": "code",
   "execution_count": null,
   "metadata": {},
   "outputs": [],
   "source": [
    "# Nu voor 'uur'\n",
    "# Het is handig om eerst het volgende tabelletje te maken:\n",
    "df2 = df.sort_values('uur')\n",
    "df2['Gehaald_cum'] = np.cumsum(df2.Gehaald)\n",
    "display(df2)\n",
    "\n",
    "print('Bij een split van 6,5 geldt voor de entropie: {:.3f}'.format(1/7 * stats.entropy([0,1], base=2) + \\\n",
    "                                                                    6/7 * stats.entropy([3,3], base=2)))\n"
   ]
  },
  {
   "cell_type": "markdown",
   "metadata": {},
   "source": [
    "Doen we dit ook voor de andere mogelijke splits, dan krijgen we de volgende tabel:\n",
    "\n",
    "| uur | Entropie    |\n",
    "| :---  | --- |\n",
    "| 6,5           | 0.857       |\n",
    "| 13          |  0.694     |\n",
    "| 16,5        |   0.464    |\n",
    "| 20,5        |      0.857  |\n",
    "| 25,5        |  0.979      |\n",
    "| 30        |   0.787     |\n",
    "\n",
    "Dus de beste split voor uur is bij uur < 16,5.\n",
    "\n",
    "Omdat de entropie van de beste keuze bij 'uur' lager is dan bij 'vooropleiding', kiezen we voor een split met uur."
   ]
  },
  {
   "cell_type": "markdown",
   "metadata": {},
   "source": [
    "Als hulp hierbij nogmaals de entropie plot, waarbij je ziet dat we de meeste waarde hechten aan een verdeling waarbij een node zo zuiver mogelijk is ('zoveel mogelijk True bevat óf zoveel mogelijk False bevat')."
   ]
  },
  {
   "cell_type": "code",
   "execution_count": null,
   "metadata": {},
   "outputs": [],
   "source": [
    "fig, ax = plt.subplots(1, dpi=100)\n",
    "\n",
    "x = np.linspace(.001,.999,100)\n",
    "y = -x * np.log2(x) + -(1-x) * np.log2(1-x)\n",
    "ax.set_xlabel(r\"Aandeel van True\")\n",
    "ax.set_ylabel(r\"Entropie $E(S)$\")\n",
    "\n",
    "plt.plot(x,y)\n",
    "plt.show()"
   ]
  },
  {
   "cell_type": "markdown",
   "metadata": {},
   "source": [
    "## Decision Tree met sklearn\n",
    "\n",
    "Maak de decision tree met `DecisionTreeClassifier`. Kies als parameter `criterion='entropy'`."
   ]
  },
  {
   "cell_type": "code",
   "execution_count": null,
   "metadata": {
    "tags": [
     "student"
    ]
   },
   "outputs": [],
   "source": [
    "df3 = pd.get_dummies(df, 'vooropleiding')\n",
    "display(df3)\n",
    "model = DecisionTreeClassifier(criterion='entropy', max_depth=2)\n",
    "model.fit(df3.drop('Gehaald', axis = 1), df3['Gehaald'])"
   ]
  },
  {
   "cell_type": "markdown",
   "metadata": {},
   "source": [
    "Visualisatie van de decision tree met GraphViz."
   ]
  },
  {
   "cell_type": "code",
   "execution_count": null,
   "metadata": {},
   "outputs": [],
   "source": [
    "data = export_graphviz(model, out_file=None, feature_names=['uur', 'vooropleiding_MBO', 'vooropleiding_anders', \\\n",
    "                                                           'vooropleiding_havo'], class_names=['True', 'False'],   \n",
    "                         filled=True, rounded=True, special_characters=True)\n",
    "\n",
    "graph = graphviz.Source(data)\n",
    "graph"
   ]
  },
  {
   "cell_type": "code",
   "execution_count": null,
   "metadata": {},
   "outputs": [],
   "source": []
  }
 ],
 "metadata": {
  "celltoolbar": "Tags",
  "kernelspec": {
   "display_name": "Python 3 (ipykernel)",
   "language": "python",
   "name": "python3"
  },
  "language_info": {
   "codemirror_mode": {
    "name": "ipython",
    "version": 3
   },
   "file_extension": ".py",
   "mimetype": "text/x-python",
   "name": "python",
   "nbconvert_exporter": "python",
   "pygments_lexer": "ipython3",
   "version": "3.8.2"
  }
 },
 "nbformat": 4,
 "nbformat_minor": 4
}
